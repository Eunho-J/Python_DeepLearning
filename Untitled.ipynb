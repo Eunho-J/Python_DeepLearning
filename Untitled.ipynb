{
 "cells": [
  {
   "cell_type": "code",
   "execution_count": null,
   "id": "757270c6",
   "metadata": {},
   "outputs": [
    {
     "name": "stdout",
     "output_type": "stream",
     "text": [
      "Metal device set to: Apple M1\n",
      "WARNING:tensorflow:AutoGraph could not transform <function normalize_img at 0x110ca44c0> and will run it as-is.\n",
      "Please report this to the TensorFlow team. When filing the bug, set the verbosity to 10 (on Linux, `export AUTOGRAPH_VERBOSITY=10`) and attach the full output.\n",
      "Cause: Unable to locate the source code of <function normalize_img at 0x110ca44c0>. Note that functions defined in certain environments, like the interactive Python shell, do not expose their source code. If that is the case, you should define them in a .py source file. If you are certain the code is graph-compatible, wrap the call using @tf.autograph.experimental.do_not_convert. Original error: could not get source code\n",
      "To silence this warning, decorate the function with @tf.autograph.experimental.do_not_convert\n"
     ]
    },
    {
     "name": "stderr",
     "output_type": "stream",
     "text": [
      "2022-02-18 00:02:45.291857: I tensorflow/core/common_runtime/pluggable_device/pluggable_device_factory.cc:305] Could not identify NUMA node of platform GPU ID 0, defaulting to 0. Your kernel may not have been built with NUMA support.\n",
      "2022-02-18 00:02:45.292285: I tensorflow/core/common_runtime/pluggable_device/pluggable_device_factory.cc:271] Created TensorFlow device (/job:localhost/replica:0/task:0/device:GPU:0 with 0 MB memory) -> physical PluggableDevice (device: 0, name: METAL, pci bus id: <undefined>)\n",
      "WARNING:tensorflow:AutoGraph could not transform <function normalize_img at 0x110ca44c0> and will run it as-is.\n",
      "Please report this to the TensorFlow team. When filing the bug, set the verbosity to 10 (on Linux, `export AUTOGRAPH_VERBOSITY=10`) and attach the full output.\n",
      "Cause: Unable to locate the source code of <function normalize_img at 0x110ca44c0>. Note that functions defined in certain environments, like the interactive Python shell, do not expose their source code. If that is the case, you should define them in a .py source file. If you are certain the code is graph-compatible, wrap the call using @tf.autograph.experimental.do_not_convert. Original error: could not get source code\n",
      "To silence this warning, decorate the function with @tf.autograph.experimental.do_not_convert\n"
     ]
    },
    {
     "name": "stdout",
     "output_type": "stream",
     "text": [
      "WARNING: AutoGraph could not transform <function normalize_img at 0x110ca44c0> and will run it as-is.\n",
      "Please report this to the TensorFlow team. When filing the bug, set the verbosity to 10 (on Linux, `export AUTOGRAPH_VERBOSITY=10`) and attach the full output.\n",
      "Cause: Unable to locate the source code of <function normalize_img at 0x110ca44c0>. Note that functions defined in certain environments, like the interactive Python shell, do not expose their source code. If that is the case, you should define them in a .py source file. If you are certain the code is graph-compatible, wrap the call using @tf.autograph.experimental.do_not_convert. Original error: could not get source code\n",
      "To silence this warning, decorate the function with @tf.autograph.experimental.do_not_convert\n"
     ]
    },
    {
     "name": "stderr",
     "output_type": "stream",
     "text": [
      "2022-02-18 00:02:45.442851: I tensorflow/core/common_runtime/pluggable_device/pluggable_device_factory.cc:305] Could not identify NUMA node of platform GPU ID 0, defaulting to 0. Your kernel may not have been built with NUMA support.\n",
      "2022-02-18 00:02:45.442872: I tensorflow/core/common_runtime/pluggable_device/pluggable_device_factory.cc:271] Created TensorFlow device (/job:localhost/replica:0/task:0/device:GPU:0 with 0 MB memory) -> physical PluggableDevice (device: 0, name: METAL, pci bus id: <undefined>)\n",
      "2022-02-18 00:02:45.447901: W tensorflow/core/platform/profile_utils/cpu_utils.cc:128] Failed to get CPU frequency: 0 Hz\n",
      "2022-02-18 00:02:45.520871: I tensorflow/core/grappler/optimizers/custom_graph_optimizer_registry.cc:112] Plugin optimizer for device_type GPU is enabled.\n",
      "2022-02-18 00:02:45.529610: I tensorflow/core/grappler/optimizers/custom_graph_optimizer_registry.cc:112] Plugin optimizer for device_type GPU is enabled.\n",
      "2022-02-18 00:02:46.064791: I tensorflow/core/grappler/optimizers/custom_graph_optimizer_registry.cc:112] Plugin optimizer for device_type GPU is enabled.\n",
      "2022-02-18 00:02:46.074233: I tensorflow/core/grappler/optimizers/custom_graph_optimizer_registry.cc:112] Plugin optimizer for device_type GPU is enabled.\n",
      "2022-02-18 00:02:46.125358: I tensorflow/core/grappler/optimizers/custom_graph_optimizer_registry.cc:112] Plugin optimizer for device_type GPU is enabled.\n",
      "2022-02-18 00:02:46.135169: I tensorflow/core/grappler/optimizers/custom_graph_optimizer_registry.cc:112] Plugin optimizer for device_type GPU is enabled.\n",
      "2022-02-18 00:02:46.149732: I tensorflow/core/grappler/optimizers/custom_graph_optimizer_registry.cc:112] Plugin optimizer for device_type GPU is enabled.\n",
      "2022-02-18 00:02:46.160723: I tensorflow/core/grappler/optimizers/custom_graph_optimizer_registry.cc:112] Plugin optimizer for device_type GPU is enabled.\n",
      "2022-02-18 00:02:46.171834: I tensorflow/compiler/mlir/mlir_graph_optimization_pass.cc:185] None of the MLIR Optimization Passes are enabled (registered 2)\n",
      "2022-02-18 00:02:46.183584: I tensorflow/core/grappler/optimizers/custom_graph_optimizer_registry.cc:112] Plugin optimizer for device_type GPU is enabled.\n",
      "2022-02-18 00:02:46.191601: I tensorflow/core/grappler/optimizers/custom_graph_optimizer_registry.cc:112] Plugin optimizer for device_type GPU is enabled.\n"
     ]
    },
    {
     "name": "stdout",
     "output_type": "stream",
     "text": [
      "Train on 469 steps, validate on 79 steps\n",
      "Epoch 1/12\n",
      "469/469 [==============================] - ETA: 0s - batch: 234.0000 - size: 1.0000 - loss: 0.1588 - accuracy: 0.9525"
     ]
    },
    {
     "name": "stderr",
     "output_type": "stream",
     "text": [
      "/Users/nogabi/miniforge3/envs/tf25/lib/python3.8/site-packages/keras/engine/training.py:2470: UserWarning: `Model.state_updates` will be removed in a future version. This property should not be used in TensorFlow 2.0, as `updates` are applied automatically.\n",
      "  warnings.warn('`Model.state_updates` will be removed in a future version. '\n",
      "2022-02-18 00:02:58.186246: I tensorflow/core/grappler/optimizers/custom_graph_optimizer_registry.cc:112] Plugin optimizer for device_type GPU is enabled.\n"
     ]
    },
    {
     "name": "stdout",
     "output_type": "stream",
     "text": [
      "469/469 [==============================] - 13s 20ms/step - batch: 234.0000 - size: 1.0000 - loss: 0.1588 - accuracy: 0.9525 - val_loss: 0.0500 - val_accuracy: 0.9828\n",
      "Epoch 2/12\n",
      "469/469 [==============================] - 10s 19ms/step - batch: 234.0000 - size: 1.0000 - loss: 0.0456 - accuracy: 0.9863 - val_loss: 0.0397 - val_accuracy: 0.9872\n",
      "Epoch 3/12\n",
      "469/469 [==============================] - 10s 19ms/step - batch: 234.0000 - size: 1.0000 - loss: 0.0283 - accuracy: 0.9916 - val_loss: 0.0356 - val_accuracy: 0.9878\n",
      "Epoch 4/12\n",
      "469/469 [==============================] - 10s 19ms/step - batch: 234.0000 - size: 1.0000 - loss: 0.0202 - accuracy: 0.9938 - val_loss: 0.0353 - val_accuracy: 0.9892\n",
      "Epoch 5/12\n",
      "469/469 [==============================] - 10s 19ms/step - batch: 234.0000 - size: 1.0000 - loss: 0.0131 - accuracy: 0.9958 - val_loss: 0.0348 - val_accuracy: 0.9889\n",
      "Epoch 6/12\n",
      "469/469 [==============================] - 10s 19ms/step - batch: 234.0000 - size: 1.0000 - loss: 0.0094 - accuracy: 0.9972 - val_loss: 0.0367 - val_accuracy: 0.9890\n",
      "Epoch 7/12\n",
      "469/469 [==============================] - 10s 19ms/step - batch: 234.0000 - size: 1.0000 - loss: 0.0083 - accuracy: 0.9973 - val_loss: 0.0420 - val_accuracy: 0.9883\n",
      "Epoch 8/12\n",
      "469/469 [==============================] - 10s 19ms/step - batch: 234.0000 - size: 1.0000 - loss: 0.0074 - accuracy: 0.9974 - val_loss: 0.0445 - val_accuracy: 0.9893\n",
      "Epoch 9/12\n",
      "469/469 [==============================] - 10s 19ms/step - batch: 234.0000 - size: 1.0000 - loss: 0.0061 - accuracy: 0.9981 - val_loss: 0.0483 - val_accuracy: 0.9878\n",
      "Epoch 10/12\n",
      "469/469 [==============================] - 10s 19ms/step - batch: 234.0000 - size: 1.0000 - loss: 0.0039 - accuracy: 0.9988 - val_loss: 0.0473 - val_accuracy: 0.9884\n",
      "Epoch 11/12\n",
      "175/469 [==========>...................] - ETA: 5s - batch: 87.0000 - size: 1.0000 - loss: 0.0054 - accuracy: 0.9985"
     ]
    }
   ],
   "source": [
    "%%time \n",
    "import tensorflow.compat.v2 as tf \n",
    "import tensorflow_datasets as tfds \n",
    "\n",
    "tf.enable_v2_behavior() \n",
    "\n",
    "from tensorflow.python.framework.ops import disable_eager_execution \n",
    "disable_eager_execution() \n",
    "\n",
    "(ds_train, ds_test), ds_info = tfds.load( \n",
    "    'mnist', \n",
    "    split=['train', 'test'], \n",
    "    shuffle_files=True, \n",
    "    as_supervised=True, \n",
    "    with_info=True, \n",
    ") \n",
    "\n",
    "def normalize_img(image, label): \n",
    "    \"\"\"Normalizes images: `uint8` -> `float32`.\"\"\" \n",
    "    return tf.cast(image, tf.float32) / 255., label \n",
    "\n",
    "batch_size = 128 \n",
    "\n",
    "ds_train = ds_train.map( normalize_img, num_parallel_calls=tf.data.experimental.AUTOTUNE) \n",
    "ds_train = ds_train.cache() \n",
    "ds_train = ds_train.shuffle(ds_info.splits['train'].num_examples) \n",
    "ds_train = ds_train.batch(batch_size) \n",
    "ds_train = ds_train.prefetch(tf.data.experimental.AUTOTUNE) \n",
    "\n",
    "ds_test = ds_test.map( normalize_img, num_parallel_calls=tf.data.experimental.AUTOTUNE) \n",
    "ds_test = ds_test.batch(batch_size) \n",
    "ds_test = ds_test.cache() \n",
    "ds_test = ds_test.prefetch(tf.data.experimental.AUTOTUNE) \n",
    "\n",
    "model = tf.keras.models.Sequential([ \n",
    "    tf.keras.layers.Conv2D(32, kernel_size=(3, 3), activation='relu'), \n",
    "    tf.keras.layers.Conv2D(64, kernel_size=(3, 3), activation='relu'), \n",
    "    tf.keras.layers.MaxPooling2D(pool_size=(2, 2)), \n",
    "    # tf.keras.layers.Dropout(0.25), \n",
    "    tf.keras.layers.Flatten(), \n",
    "    tf.keras.layers.Dense(128, activation='relu'), \n",
    "    # tf.keras.layers.Dropout(0.5), \n",
    "    tf.keras.layers.Dense(10, activation='softmax') \n",
    "]) \n",
    "model.compile( \n",
    "    loss='sparse_categorical_crossentropy', \n",
    "    optimizer=tf.keras.optimizers.Adam(0.001), \n",
    "    metrics=['accuracy'], \n",
    ") \n",
    "\n",
    "model.fit( \n",
    "    ds_train, \n",
    "    epochs=12, \n",
    "    validation_data=ds_test, \n",
    ")"
   ]
  },
  {
   "cell_type": "code",
   "execution_count": null,
   "id": "b2f14ae3",
   "metadata": {},
   "outputs": [],
   "source": []
  },
  {
   "cell_type": "code",
   "execution_count": null,
   "id": "0b30f91c",
   "metadata": {},
   "outputs": [],
   "source": []
  }
 ],
 "metadata": {
  "kernelspec": {
   "display_name": "Python 3 (ipykernel)",
   "language": "python",
   "name": "python3"
  },
  "language_info": {
   "codemirror_mode": {
    "name": "ipython",
    "version": 3
   },
   "file_extension": ".py",
   "mimetype": "text/x-python",
   "name": "python",
   "nbconvert_exporter": "python",
   "pygments_lexer": "ipython3",
   "version": "3.8.12"
  }
 },
 "nbformat": 4,
 "nbformat_minor": 5
}
