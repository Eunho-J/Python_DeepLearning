{
 "cells": [
  {
   "cell_type": "code",
   "execution_count": 1,
   "id": "757270c6",
   "metadata": {},
   "outputs": [
    {
     "name": "stdout",
     "output_type": "stream",
     "text": [
      "Metal device set to: Apple M1\n",
      "WARNING:tensorflow:AutoGraph could not transform <function normalize_img at 0x103b90700> and will run it as-is.\n",
      "Please report this to the TensorFlow team. When filing the bug, set the verbosity to 10 (on Linux, `export AUTOGRAPH_VERBOSITY=10`) and attach the full output.\n",
      "Cause: Unable to locate the source code of <function normalize_img at 0x103b90700>. Note that functions defined in certain environments, like the interactive Python shell, do not expose their source code. If that is the case, you should define them in a .py source file. If you are certain the code is graph-compatible, wrap the call using @tf.autograph.experimental.do_not_convert. Original error: could not get source code\n",
      "To silence this warning, decorate the function with @tf.autograph.experimental.do_not_convert\n"
     ]
    },
    {
     "name": "stderr",
     "output_type": "stream",
     "text": [
      "2021-12-03 02:21:01.937424: I tensorflow/core/common_runtime/pluggable_device/pluggable_device_factory.cc:305] Could not identify NUMA node of platform GPU ID 0, defaulting to 0. Your kernel may not have been built with NUMA support.\n",
      "2021-12-03 02:21:01.937519: I tensorflow/core/common_runtime/pluggable_device/pluggable_device_factory.cc:271] Created TensorFlow device (/job:localhost/replica:0/task:0/device:GPU:0 with 0 MB memory) -> physical PluggableDevice (device: 0, name: METAL, pci bus id: <undefined>)\n",
      "WARNING:tensorflow:AutoGraph could not transform <function normalize_img at 0x103b90700> and will run it as-is.\n",
      "Please report this to the TensorFlow team. When filing the bug, set the verbosity to 10 (on Linux, `export AUTOGRAPH_VERBOSITY=10`) and attach the full output.\n",
      "Cause: Unable to locate the source code of <function normalize_img at 0x103b90700>. Note that functions defined in certain environments, like the interactive Python shell, do not expose their source code. If that is the case, you should define them in a .py source file. If you are certain the code is graph-compatible, wrap the call using @tf.autograph.experimental.do_not_convert. Original error: could not get source code\n",
      "To silence this warning, decorate the function with @tf.autograph.experimental.do_not_convert\n"
     ]
    },
    {
     "name": "stdout",
     "output_type": "stream",
     "text": [
      "WARNING: AutoGraph could not transform <function normalize_img at 0x103b90700> and will run it as-is.\n",
      "Please report this to the TensorFlow team. When filing the bug, set the verbosity to 10 (on Linux, `export AUTOGRAPH_VERBOSITY=10`) and attach the full output.\n",
      "Cause: Unable to locate the source code of <function normalize_img at 0x103b90700>. Note that functions defined in certain environments, like the interactive Python shell, do not expose their source code. If that is the case, you should define them in a .py source file. If you are certain the code is graph-compatible, wrap the call using @tf.autograph.experimental.do_not_convert. Original error: could not get source code\n",
      "To silence this warning, decorate the function with @tf.autograph.experimental.do_not_convert\n"
     ]
    },
    {
     "name": "stderr",
     "output_type": "stream",
     "text": [
      "2021-12-03 02:21:02.032387: I tensorflow/core/common_runtime/pluggable_device/pluggable_device_factory.cc:305] Could not identify NUMA node of platform GPU ID 0, defaulting to 0. Your kernel may not have been built with NUMA support.\n",
      "2021-12-03 02:21:02.032405: I tensorflow/core/common_runtime/pluggable_device/pluggable_device_factory.cc:271] Created TensorFlow device (/job:localhost/replica:0/task:0/device:GPU:0 with 0 MB memory) -> physical PluggableDevice (device: 0, name: METAL, pci bus id: <undefined>)\n",
      "2021-12-03 02:21:02.033896: W tensorflow/core/platform/profile_utils/cpu_utils.cc:128] Failed to get CPU frequency: 0 Hz\n",
      "2021-12-03 02:21:02.083542: I tensorflow/core/grappler/optimizers/custom_graph_optimizer_registry.cc:112] Plugin optimizer for device_type GPU is enabled.\n",
      "2021-12-03 02:21:02.090304: I tensorflow/core/grappler/optimizers/custom_graph_optimizer_registry.cc:112] Plugin optimizer for device_type GPU is enabled.\n",
      "2021-12-03 02:21:02.118238: I tensorflow/core/grappler/optimizers/custom_graph_optimizer_registry.cc:112] Plugin optimizer for device_type GPU is enabled.\n",
      "2021-12-03 02:21:02.127823: I tensorflow/core/grappler/optimizers/custom_graph_optimizer_registry.cc:112] Plugin optimizer for device_type GPU is enabled.\n",
      "2021-12-03 02:21:02.180832: I tensorflow/core/grappler/optimizers/custom_graph_optimizer_registry.cc:112] Plugin optimizer for device_type GPU is enabled.\n",
      "2021-12-03 02:21:02.190684: I tensorflow/core/grappler/optimizers/custom_graph_optimizer_registry.cc:112] Plugin optimizer for device_type GPU is enabled.\n",
      "2021-12-03 02:21:02.205388: I tensorflow/core/grappler/optimizers/custom_graph_optimizer_registry.cc:112] Plugin optimizer for device_type GPU is enabled.\n",
      "2021-12-03 02:21:02.216617: I tensorflow/core/grappler/optimizers/custom_graph_optimizer_registry.cc:112] Plugin optimizer for device_type GPU is enabled.\n",
      "2021-12-03 02:21:02.226878: I tensorflow/compiler/mlir/mlir_graph_optimization_pass.cc:185] None of the MLIR Optimization Passes are enabled (registered 2)\n",
      "2021-12-03 02:21:02.237508: I tensorflow/core/grappler/optimizers/custom_graph_optimizer_registry.cc:112] Plugin optimizer for device_type GPU is enabled.\n",
      "2021-12-03 02:21:02.246050: I tensorflow/core/grappler/optimizers/custom_graph_optimizer_registry.cc:112] Plugin optimizer for device_type GPU is enabled.\n"
     ]
    },
    {
     "name": "stdout",
     "output_type": "stream",
     "text": [
      "Train on 469 steps, validate on 79 steps\n",
      "Epoch 1/12\n",
      "468/469 [============================>.] - ETA: 0s - batch: 233.5000 - size: 1.0000 - loss: 0.1651 - accuracy: 0.9507"
     ]
    },
    {
     "name": "stderr",
     "output_type": "stream",
     "text": [
      "/Users/nogabi/miniforge3/envs/tf25/lib/python3.8/site-packages/keras/engine/training.py:2470: UserWarning: `Model.state_updates` will be removed in a future version. This property should not be used in TensorFlow 2.0, as `updates` are applied automatically.\n",
      "  warnings.warn('`Model.state_updates` will be removed in a future version. '\n",
      "2021-12-03 02:21:11.480437: I tensorflow/core/grappler/optimizers/custom_graph_optimizer_registry.cc:112] Plugin optimizer for device_type GPU is enabled.\n"
     ]
    },
    {
     "name": "stdout",
     "output_type": "stream",
     "text": [
      "469/469 [==============================] - 10s 19ms/step - batch: 234.0000 - size: 1.0000 - loss: 0.1649 - accuracy: 0.9508 - val_loss: 0.0517 - val_accuracy: 0.9833\n",
      "Epoch 2/12\n",
      "469/469 [==============================] - 10s 19ms/step - batch: 234.0000 - size: 1.0000 - loss: 0.0419 - accuracy: 0.9869 - val_loss: 0.0348 - val_accuracy: 0.9885\n",
      "Epoch 3/12\n",
      "469/469 [==============================] - 10s 19ms/step - batch: 234.0000 - size: 1.0000 - loss: 0.0271 - accuracy: 0.9918 - val_loss: 0.0413 - val_accuracy: 0.9864\n",
      "Epoch 4/12\n",
      "469/469 [==============================] - 11s 20ms/step - batch: 234.0000 - size: 1.0000 - loss: 0.0179 - accuracy: 0.9943 - val_loss: 0.0375 - val_accuracy: 0.9885\n",
      "Epoch 5/12\n",
      "469/469 [==============================] - 10s 19ms/step - batch: 234.0000 - size: 1.0000 - loss: 0.0133 - accuracy: 0.9957 - val_loss: 0.0293 - val_accuracy: 0.9907\n",
      "Epoch 6/12\n",
      "469/469 [==============================] - 10s 19ms/step - batch: 234.0000 - size: 1.0000 - loss: 0.0088 - accuracy: 0.9972 - val_loss: 0.0340 - val_accuracy: 0.9901\n",
      "Epoch 7/12\n",
      "469/469 [==============================] - 10s 19ms/step - batch: 234.0000 - size: 1.0000 - loss: 0.0087 - accuracy: 0.9971 - val_loss: 0.0426 - val_accuracy: 0.9882\n",
      "Epoch 8/12\n",
      "469/469 [==============================] - 10s 19ms/step - batch: 234.0000 - size: 1.0000 - loss: 0.0063 - accuracy: 0.9979 - val_loss: 0.0380 - val_accuracy: 0.9897\n",
      "Epoch 9/12\n",
      "469/469 [==============================] - 10s 20ms/step - batch: 234.0000 - size: 1.0000 - loss: 0.0043 - accuracy: 0.9985 - val_loss: 0.0485 - val_accuracy: 0.9883\n",
      "Epoch 10/12\n",
      "469/469 [==============================] - 10s 19ms/step - batch: 234.0000 - size: 1.0000 - loss: 0.0049 - accuracy: 0.9986 - val_loss: 0.0477 - val_accuracy: 0.9876\n",
      "Epoch 11/12\n",
      "469/469 [==============================] - 10s 19ms/step - batch: 234.0000 - size: 1.0000 - loss: 0.0050 - accuracy: 0.9983 - val_loss: 0.0379 - val_accuracy: 0.9904\n",
      "Epoch 12/12\n",
      "469/469 [==============================] - 10s 19ms/step - batch: 234.0000 - size: 1.0000 - loss: 0.0057 - accuracy: 0.9979 - val_loss: 0.0393 - val_accuracy: 0.9911\n",
      "CPU times: user 1min 5s, sys: 44.6 s, total: 1min 49s\n",
      "Wall time: 2min 1s\n"
     ]
    },
    {
     "data": {
      "text/plain": [
       "<keras.callbacks.History at 0x14e499c10>"
      ]
     },
     "execution_count": 1,
     "metadata": {},
     "output_type": "execute_result"
    }
   ],
   "source": [
    "%%time \n",
    "import tensorflow.compat.v2 as tf \n",
    "import tensorflow_datasets as tfds \n",
    "\n",
    "tf.enable_v2_behavior() \n",
    "\n",
    "from tensorflow.python.framework.ops import disable_eager_execution \n",
    "disable_eager_execution() \n",
    "\n",
    "(ds_train, ds_test), ds_info = tfds.load( \n",
    "    'mnist', \n",
    "    split=['train', 'test'], \n",
    "    shuffle_files=True, \n",
    "    as_supervised=True, \n",
    "    with_info=True, \n",
    ") \n",
    "\n",
    "def normalize_img(image, label): \n",
    "    \"\"\"Normalizes images: `uint8` -> `float32`.\"\"\" \n",
    "    return tf.cast(image, tf.float32) / 255., label \n",
    "\n",
    "batch_size = 128 \n",
    "\n",
    "ds_train = ds_train.map( normalize_img, num_parallel_calls=tf.data.experimental.AUTOTUNE) \n",
    "ds_train = ds_train.cache() \n",
    "ds_train = ds_train.shuffle(ds_info.splits['train'].num_examples) \n",
    "ds_train = ds_train.batch(batch_size) \n",
    "ds_train = ds_train.prefetch(tf.data.experimental.AUTOTUNE) \n",
    "\n",
    "ds_test = ds_test.map( normalize_img, num_parallel_calls=tf.data.experimental.AUTOTUNE) \n",
    "ds_test = ds_test.batch(batch_size) \n",
    "ds_test = ds_test.cache() \n",
    "ds_test = ds_test.prefetch(tf.data.experimental.AUTOTUNE) \n",
    "\n",
    "model = tf.keras.models.Sequential([ \n",
    "    tf.keras.layers.Conv2D(32, kernel_size=(3, 3), activation='relu'), \n",
    "    tf.keras.layers.Conv2D(64, kernel_size=(3, 3), activation='relu'), \n",
    "    tf.keras.layers.MaxPooling2D(pool_size=(2, 2)), \n",
    "    # tf.keras.layers.Dropout(0.25), \n",
    "    tf.keras.layers.Flatten(), \n",
    "    tf.keras.layers.Dense(128, activation='relu'), \n",
    "    # tf.keras.layers.Dropout(0.5), \n",
    "    tf.keras.layers.Dense(10, activation='softmax') \n",
    "]) \n",
    "model.compile( \n",
    "    loss='sparse_categorical_crossentropy', \n",
    "    optimizer=tf.keras.optimizers.Adam(0.001), \n",
    "    metrics=['accuracy'], \n",
    ") \n",
    "\n",
    "model.fit( \n",
    "    ds_train, \n",
    "    epochs=12, \n",
    "    validation_data=ds_test, \n",
    ")"
   ]
  },
  {
   "cell_type": "code",
   "execution_count": null,
   "id": "b2f14ae3",
   "metadata": {},
   "outputs": [],
   "source": []
  },
  {
   "cell_type": "code",
   "execution_count": null,
   "id": "0b30f91c",
   "metadata": {},
   "outputs": [],
   "source": []
  }
 ],
 "metadata": {
  "kernelspec": {
   "display_name": "Python 3 (ipykernel)",
   "language": "python",
   "name": "python3"
  },
  "language_info": {
   "codemirror_mode": {
    "name": "ipython",
    "version": 3
   },
   "file_extension": ".py",
   "mimetype": "text/x-python",
   "name": "python",
   "nbconvert_exporter": "python",
   "pygments_lexer": "ipython3",
   "version": "3.8.12"
  }
 },
 "nbformat": 4,
 "nbformat_minor": 5
}
