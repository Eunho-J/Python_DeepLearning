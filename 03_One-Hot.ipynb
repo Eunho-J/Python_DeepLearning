{
 "cells": [
  {
   "cell_type": "code",
   "execution_count": 1,
   "id": "fd284891",
   "metadata": {},
   "outputs": [],
   "source": [
    "import numpy as np"
   ]
  },
  {
   "cell_type": "code",
   "execution_count": 5,
   "id": "819239bc",
   "metadata": {},
   "outputs": [],
   "source": [
    "def convert_one_hot(labels, num_classes):\n",
    "    one_hot_result = np.zeros((len(labels), num_classes))\n",
    "    for idx, label in enumerate(labels):\n",
    "        one_hot_result[idx][label] = 1\n",
    "    \n",
    "    return one_hot_result"
   ]
  },
  {
   "cell_type": "code",
   "execution_count": 6,
   "id": "edc4952b",
   "metadata": {},
   "outputs": [
    {
     "name": "stdout",
     "output_type": "stream",
     "text": [
      "[[0. 1. 0. 0. 0. 0.]\n",
      " [0. 0. 0. 1. 0. 0.]\n",
      " [0. 0. 0. 1. 0. 0.]\n",
      " [0. 0. 0. 0. 1. 0.]\n",
      " [0. 0. 1. 0. 0. 0.]\n",
      " [1. 0. 0. 0. 0. 0.]\n",
      " [0. 0. 0. 0. 0. 1.]\n",
      " [0. 0. 0. 1. 0. 0.]\n",
      " [1. 0. 0. 0. 0. 0.]]\n"
     ]
    }
   ],
   "source": [
    "x_label = [1, 3, 3, 4, 2, 0, 5, 3, 0]\n",
    "print(convert_one_hot(x_label, max(x_label)+1))"
   ]
  },
  {
   "cell_type": "code",
   "execution_count": 7,
   "id": "d0192bb8",
   "metadata": {},
   "outputs": [],
   "source": [
    "from keras.utils.np_utils import to_categorical"
   ]
  },
  {
   "cell_type": "code",
   "execution_count": 8,
   "id": "2e515b6f",
   "metadata": {},
   "outputs": [
    {
     "name": "stdout",
     "output_type": "stream",
     "text": [
      "[[0. 1. 0. 0. 0. 0.]\n",
      " [0. 0. 0. 1. 0. 0.]\n",
      " [0. 0. 0. 1. 0. 0.]\n",
      " [0. 0. 0. 0. 1. 0.]\n",
      " [0. 0. 1. 0. 0. 0.]\n",
      " [1. 0. 0. 0. 0. 0.]\n",
      " [0. 0. 0. 0. 0. 1.]\n",
      " [0. 0. 0. 1. 0. 0.]\n",
      " [1. 0. 0. 0. 0. 0.]]\n"
     ]
    }
   ],
   "source": [
    "x_label = np.array([1, 3, 3, 4, 2, 0, 5, 3, 0])\n",
    "\n",
    "one_hot_label = to_categorical(x_label)\n",
    "print(one_hot_label)"
   ]
  },
  {
   "cell_type": "code",
   "execution_count": 14,
   "id": "ac855660",
   "metadata": {},
   "outputs": [
    {
     "data": {
      "text/html": [
       "<div>\n",
       "<style scoped>\n",
       "    .dataframe tbody tr th:only-of-type {\n",
       "        vertical-align: middle;\n",
       "    }\n",
       "\n",
       "    .dataframe tbody tr th {\n",
       "        vertical-align: top;\n",
       "    }\n",
       "\n",
       "    .dataframe thead th {\n",
       "        text-align: right;\n",
       "    }\n",
       "</style>\n",
       "<table border=\"1\" class=\"dataframe\">\n",
       "  <thead>\n",
       "    <tr style=\"text-align: right;\">\n",
       "      <th></th>\n",
       "      <th>블랙 위도우</th>\n",
       "      <th>스파이더맨</th>\n",
       "      <th>아이언맨</th>\n",
       "      <th>앤트맨</th>\n",
       "      <th>캡틴 아메리카</th>\n",
       "      <th>헐크</th>\n",
       "    </tr>\n",
       "  </thead>\n",
       "  <tbody>\n",
       "    <tr>\n",
       "      <th>0</th>\n",
       "      <td>0</td>\n",
       "      <td>0</td>\n",
       "      <td>1</td>\n",
       "      <td>0</td>\n",
       "      <td>0</td>\n",
       "      <td>0</td>\n",
       "    </tr>\n",
       "    <tr>\n",
       "      <th>1</th>\n",
       "      <td>0</td>\n",
       "      <td>0</td>\n",
       "      <td>0</td>\n",
       "      <td>0</td>\n",
       "      <td>1</td>\n",
       "      <td>0</td>\n",
       "    </tr>\n",
       "    <tr>\n",
       "      <th>2</th>\n",
       "      <td>0</td>\n",
       "      <td>0</td>\n",
       "      <td>0</td>\n",
       "      <td>0</td>\n",
       "      <td>0</td>\n",
       "      <td>1</td>\n",
       "    </tr>\n",
       "    <tr>\n",
       "      <th>3</th>\n",
       "      <td>1</td>\n",
       "      <td>0</td>\n",
       "      <td>0</td>\n",
       "      <td>0</td>\n",
       "      <td>0</td>\n",
       "      <td>0</td>\n",
       "    </tr>\n",
       "    <tr>\n",
       "      <th>4</th>\n",
       "      <td>0</td>\n",
       "      <td>1</td>\n",
       "      <td>0</td>\n",
       "      <td>0</td>\n",
       "      <td>0</td>\n",
       "      <td>0</td>\n",
       "    </tr>\n",
       "    <tr>\n",
       "      <th>5</th>\n",
       "      <td>0</td>\n",
       "      <td>0</td>\n",
       "      <td>0</td>\n",
       "      <td>1</td>\n",
       "      <td>0</td>\n",
       "      <td>0</td>\n",
       "    </tr>\n",
       "  </tbody>\n",
       "</table>\n",
       "</div>"
      ],
      "text/plain": [
       "   블랙 위도우  스파이더맨  아이언맨  앤트맨  캡틴 아메리카  헐크\n",
       "0       0      0     1    0        0   0\n",
       "1       0      0     0    0        1   0\n",
       "2       0      0     0    0        0   1\n",
       "3       1      0     0    0        0   0\n",
       "4       0      1     0    0        0   0\n",
       "5       0      0     0    1        0   0"
      ]
     },
     "execution_count": 14,
     "metadata": {},
     "output_type": "execute_result"
    }
   ],
   "source": [
    "import pandas as pd\n",
    "df = pd.DataFrame({'labels':['아이언맨', '캡틴 아메리카', '헐크', '블랙 위도우', '스파이더맨', '앤트맨']})\n",
    "ohe_df = pd.get_dummies(df['labels'])\n",
    "ohe_df"
   ]
  },
  {
   "cell_type": "code",
   "execution_count": 21,
   "id": "d012afbe",
   "metadata": {},
   "outputs": [],
   "source": [
    "def MAE(y, pred_y):\n",
    "    return np.mean(np.abs((y - pred_y)))"
   ]
  },
  {
   "cell_type": "code",
   "execution_count": 22,
   "id": "7072b455",
   "metadata": {},
   "outputs": [
    {
     "data": {
      "image/png": "[encoded data removed]",
      "text/plain": [
       "<Figure size 432x288 with 1 Axes>"
      ]
     },
     "metadata": {},
     "output_type": "display_data"
    }
   ],
   "source": [
    "import matplotlib.pyplot as plt\n",
    "plt.style.use('seaborn-whitegrid')\n",
    "\n",
    "y = np.array([-3, -1, -2, 1, 3, -2, 2, 5, 3, 3, -1, -2, 1])\n",
    "yhat = np.array([-3, 0, -1, 1, 3, 1, 2, 5, 1, 3, 0, -2, 2])\n",
    "x = list(range(len(y)))\n",
    "\n",
    "plt.scatter(x, y, color='b', label='True')\n",
    "plt.plot(x, yhat, color='r', label='Pred')\n",
    "plt.legend()\n",
    "plt.grid()\n",
    "plt.show()"
   ]
  },
  {
   "cell_type": "code",
   "execution_count": 23,
   "id": "34b85f62",
   "metadata": {},
   "outputs": [
    {
     "name": "stdout",
     "output_type": "stream",
     "text": [
      "0.6923076923076923\n"
     ]
    }
   ],
   "source": [
    "print(MAE(y, yhat))"
   ]
  },
  {
   "cell_type": "code",
   "execution_count": 24,
   "id": "afefb4ec",
   "metadata": {},
   "outputs": [],
   "source": [
    "def MSE(y, pred_y):\n",
    "    return 0.5 * np.sum(np.square((y - pred_y)))"
   ]
  },
  {
   "cell_type": "code",
   "execution_count": 25,
   "id": "4e2bf4d4",
   "metadata": {},
   "outputs": [
    {
     "name": "stdout",
     "output_type": "stream",
     "text": [
      "8.5\n"
     ]
    }
   ],
   "source": [
    "print(MSE(y, yhat))"
   ]
  },
  {
   "cell_type": "code",
   "execution_count": 26,
   "id": "60768039",
   "metadata": {},
   "outputs": [],
   "source": [
    "#교차 엔트로피 오자(Cross Entropy Error, CEE)\n",
    "def CEE(y_pred, y_true):\n",
    "    delta = 1e-7\n",
    "    return -np.sum(y_true * np.log(y_pred + delta))\n",
    "\n"
   ]
  },
  {
   "cell_type": "code",
   "execution_count": 36,
   "id": "bd403be0",
   "metadata": {},
   "outputs": [
    {
     "name": "stdout",
     "output_type": "stream",
     "text": [
      "yhat sum: 1.0\n",
      "CEE: 0.3566748010815999\n"
     ]
    }
   ],
   "source": [
    "y = np.array([0, 0, 0, 0, 0, 1, 0, 0, 0, 0])\n",
    "yhat = np.array([0.01, 0.1, 0.05, 0.0, 0.1, 0.7, 0.0, 0.03, 0.01, 0.0])\n",
    "print(\"yhat sum:\", np.sum(yhat))\n",
    "print(\"CEE:\", CEE(yhat, y))"
   ]
  },
  {
   "cell_type": "code",
   "execution_count": 35,
   "id": "69fb4e31",
   "metadata": {},
   "outputs": [
    {
     "name": "stdout",
     "output_type": "stream",
     "text": [
      "yhat sum: 1.0\n",
      "CEE: 3.506554563992204\n"
     ]
    }
   ],
   "source": [
    "y = np.array([0, 0, 0, 0, 0, 1, 0, 0, 0, 0])\n",
    "yhat = np.array([0.01, 0.1, 0.05, 0.0, 0.1, 0.03, 0.0, 0.7, 0.01, 0.0])\n",
    "print(\"yhat sum:\", np.sum(yhat))\n",
    "print(\"CEE:\", CEE(yhat, y))"
   ]
  },
  {
   "cell_type": "code",
   "execution_count": null,
   "id": "40146ee0",
   "metadata": {},
   "outputs": [],
   "source": [
    "y = np.array([0,1])\n",
    "yhat = np.array([0.15, 0.85])\n",
    "\n",
    "print(\"yhat sum:\", np.sum(yhat))\n",
    "print(\"Binary CEE:\")"
   ]
  }
 ],
 "metadata": {
  "kernelspec": {
   "display_name": "Python 3 (ipykernel)",
   "language": "python",
   "name": "python3"
  },
  "language_info": {
   "codemirror_mode": {
    "name": "ipython",
    "version": 3
   },
   "file_extension": ".py",
   "mimetype": "text/x-python",
   "name": "python",
   "nbconvert_exporter": "python",
   "pygments_lexer": "ipython3",
   "version": "3.8.12"
  }
 },
 "nbformat": 4,
 "nbformat_minor": 5
}
