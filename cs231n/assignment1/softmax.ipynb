{
 "cells": [
  {
   "cell_type": "code",
   "execution_count": 1,
   "metadata": {},
   "outputs": [
    {
     "name": "stdout",
     "output_type": "stream",
     "text": [
      "C:\\Users\\Administrator\\python_dl\\cs231n\\assignment1\\cs231n\\datasets\n",
      "C:\\Users\\Administrator\\python_dl\\cs231n\\assignment1\n"
     ]
    }
   ],
   "source": [
    "\n",
    "# This downloads the CIFAR-10 dataset to your Drive\n",
    "# if it doesn't already exist.\n",
    "%cd cs231n/datasets/\n",
    "!bash get_datasets.sh\n",
    "%cd ../.."
   ]
  },
  {
   "cell_type": "markdown",
   "metadata": {
    "tags": [
     "pdf-title"
    ]
   },
   "source": [
    "# Softmax exercise\n",
    "\n",
    "*Complete and hand in this completed worksheet (including its outputs and any supporting code outside of the worksheet) with your assignment submission. For more details see the [assignments page](http://vision.stanford.edu/teaching/cs231n/assignments.html) on the course website.*\n",
    "\n",
    "This exercise is analogous to the SVM exercise. You will:\n",
    "\n",
    "- implement a fully-vectorized **loss function** for the Softmax classifier\n",
    "- implement the fully-vectorized expression for its **analytic gradient**\n",
    "- **check your implementation** with numerical gradient\n",
    "- use a validation set to **tune the learning rate and regularization** strength\n",
    "- **optimize** the loss function with **SGD**\n",
    "- **visualize** the final learned weights\n"
   ]
  },
  {
   "cell_type": "code",
   "execution_count": 2,
   "metadata": {
    "tags": [
     "pdf-ignore"
    ]
   },
   "outputs": [],
   "source": [
    "import random\n",
    "import numpy as np\n",
    "from cs231n.data_utils import load_CIFAR10\n",
    "import matplotlib.pyplot as plt\n",
    "\n",
    "%matplotlib inline\n",
    "plt.rcParams['figure.figsize'] = (10.0, 8.0) # set default size of plots\n",
    "plt.rcParams['image.interpolation'] = 'nearest'\n",
    "plt.rcParams['image.cmap'] = 'gray'\n",
    "\n",
    "# for auto-reloading extenrnal modules\n",
    "# see http://stackoverflow.com/questions/1907993/autoreload-of-modules-in-ipython\n",
    "%load_ext autoreload\n",
    "%autoreload 2"
   ]
  },
  {
   "cell_type": "code",
   "execution_count": 3,
   "metadata": {
    "tags": [
     "pdf-ignore"
    ]
   },
   "outputs": [
    {
     "name": "stdout",
     "output_type": "stream",
     "text": [
      "Train data shape:  (49000, 3073)\n",
      "Train labels shape:  (49000,)\n",
      "Validation data shape:  (1000, 3073)\n",
      "Validation labels shape:  (1000,)\n",
      "Test data shape:  (1000, 3073)\n",
      "Test labels shape:  (1000,)\n",
      "dev data shape:  (500, 3073)\n",
      "dev labels shape:  (500,)\n"
     ]
    }
   ],
   "source": [
    "def get_CIFAR10_data(num_training=49000, num_validation=1000, num_test=1000, num_dev=500):\n",
    "    \"\"\"\n",
    "    Load the CIFAR-10 dataset from disk and perform preprocessing to prepare\n",
    "    it for the linear classifier. These are the same steps as we used for the\n",
    "    SVM, but condensed to a single function.  \n",
    "    \"\"\"\n",
    "    # Load the raw CIFAR-10 data\n",
    "    cifar10_dir = 'cs231n/datasets/cifar-10-batches-py'\n",
    "    \n",
    "    # Cleaning up variables to prevent loading data multiple times (which may cause memory issue)\n",
    "    try:\n",
    "       del X_train, y_train\n",
    "       del X_test, y_test\n",
    "       print('Clear previously loaded data.')\n",
    "    except:\n",
    "       pass\n",
    "\n",
    "    X_train, y_train, X_test, y_test = load_CIFAR10(cifar10_dir)\n",
    "    \n",
    "    # subsample the data\n",
    "    mask = list(range(num_training, num_training + num_validation))\n",
    "    X_val = X_train[mask]\n",
    "    y_val = y_train[mask]\n",
    "    mask = list(range(num_training))\n",
    "    X_train = X_train[mask]\n",
    "    y_train = y_train[mask]\n",
    "    mask = list(range(num_test))\n",
    "    X_test = X_test[mask]\n",
    "    y_test = y_test[mask]\n",
    "    mask = np.random.choice(num_training, num_dev, replace=False)\n",
    "    X_dev = X_train[mask]\n",
    "    y_dev = y_train[mask]\n",
    "    \n",
    "    # Preprocessing: reshape the image data into rows\n",
    "    X_train = np.reshape(X_train, (X_train.shape[0], -1))\n",
    "    X_val = np.reshape(X_val, (X_val.shape[0], -1))\n",
    "    X_test = np.reshape(X_test, (X_test.shape[0], -1))\n",
    "    X_dev = np.reshape(X_dev, (X_dev.shape[0], -1))\n",
    "    \n",
    "    # Normalize the data: subtract the mean image\n",
    "    mean_image = np.mean(X_train, axis = 0)\n",
    "    X_train -= mean_image\n",
    "    X_val -= mean_image\n",
    "    X_test -= mean_image\n",
    "    X_dev -= mean_image\n",
    "    \n",
    "    # add bias dimension and transform into columns\n",
    "    X_train = np.hstack([X_train, np.ones((X_train.shape[0], 1))])\n",
    "    X_val = np.hstack([X_val, np.ones((X_val.shape[0], 1))])\n",
    "    X_test = np.hstack([X_test, np.ones((X_test.shape[0], 1))])\n",
    "    X_dev = np.hstack([X_dev, np.ones((X_dev.shape[0], 1))])\n",
    "    \n",
    "    return X_train, y_train, X_val, y_val, X_test, y_test, X_dev, y_dev\n",
    "\n",
    "\n",
    "# Invoke the above function to get our data.\n",
    "X_train, y_train, X_val, y_val, X_test, y_test, X_dev, y_dev = get_CIFAR10_data()\n",
    "print('Train data shape: ', X_train.shape)\n",
    "print('Train labels shape: ', y_train.shape)\n",
    "print('Validation data shape: ', X_val.shape)\n",
    "print('Validation labels shape: ', y_val.shape)\n",
    "print('Test data shape: ', X_test.shape)\n",
    "print('Test labels shape: ', y_test.shape)\n",
    "print('dev data shape: ', X_dev.shape)\n",
    "print('dev labels shape: ', y_dev.shape)"
   ]
  },
  {
   "cell_type": "markdown",
   "metadata": {},
   "source": [
    "## Softmax Classifier\n",
    "\n",
    "Your code for this section will all be written inside `cs231n/classifiers/softmax.py`.\n"
   ]
  },
  {
   "cell_type": "code",
   "execution_count": 19,
   "metadata": {},
   "outputs": [
    {
     "name": "stdout",
     "output_type": "stream",
     "text": [
      "loss: 2.356502\n",
      "sanity check: 2.302585\n"
     ]
    }
   ],
   "source": [
    "# First implement the naive softmax loss function with nested loops.\n",
    "# Open the file cs231n/classifiers/softmax.py and implement the\n",
    "# softmax_loss_naive function.\n",
    "\n",
    "from cs231n.classifiers.softmax import softmax_loss_naive\n",
    "import time\n",
    "\n",
    "# Generate a random softmax weight matrix and use it to compute the loss.\n",
    "W = np.random.randn(3073, 10) * 0.0001\n",
    "loss, grad = softmax_loss_naive(W, X_dev, y_dev, 0.0)\n",
    "\n",
    "# As a rough sanity check, our loss should be something close to -log(0.1).\n",
    "print('loss: %f' % loss)\n",
    "print('sanity check: %f' % (-np.log(0.1)))"
   ]
  },
  {
   "cell_type": "markdown",
   "metadata": {
    "tags": [
     "pdf-inline"
    ]
   },
   "source": [
    "**Inline Question 1**\n",
    "\n",
    "Why do we expect our loss to be close to -log(0.1)? Explain briefly.**\n",
    "\n",
    "$\\color{blue}{\\textit Your Answer:}$ *Fill this in* \n",
    "\n"
   ]
  },
  {
   "cell_type": "code",
   "execution_count": 20,
   "metadata": {},
   "outputs": [
    {
     "name": "stdout",
     "output_type": "stream",
     "text": [
      "numerical: 1.609357 analytic: 1.609357, relative error: 1.882625e-09\n",
      "numerical: -2.876955 analytic: -2.876955, relative error: 9.430937e-10\n",
      "numerical: 0.023892 analytic: 0.023892, relative error: 4.015864e-07\n",
      "numerical: -0.910341 analytic: -0.910341, relative error: 1.496734e-09\n",
      "numerical: 1.080742 analytic: 1.080742, relative error: 6.535472e-09\n",
      "numerical: -5.233900 analytic: -5.233900, relative error: 8.808410e-10\n",
      "numerical: -0.567233 analytic: -0.567233, relative error: 3.229564e-08\n",
      "numerical: -0.514084 analytic: -0.514084, relative error: 5.365989e-08\n",
      "numerical: -0.078551 analytic: -0.078552, relative error: 3.243705e-07\n",
      "numerical: 3.894681 analytic: 3.894681, relative error: 3.975663e-09\n",
      "numerical: -0.939184 analytic: -0.939184, relative error: 2.249484e-08\n",
      "numerical: 0.087740 analytic: 0.087740, relative error: 2.832602e-07\n",
      "numerical: 0.169714 analytic: 0.169714, relative error: 1.427903e-07\n",
      "numerical: -0.613221 analytic: -0.613221, relative error: 2.491168e-08\n",
      "numerical: 1.068226 analytic: 1.068226, relative error: 1.732333e-09\n",
      "numerical: -3.933354 analytic: -3.933354, relative error: 5.745457e-09\n",
      "numerical: -0.512714 analytic: -0.512714, relative error: 5.851846e-09\n",
      "numerical: 2.605655 analytic: 2.605655, relative error: 2.786664e-08\n",
      "numerical: -0.453577 analytic: -0.453577, relative error: 3.377945e-08\n",
      "numerical: 1.347956 analytic: 1.347956, relative error: 7.121923e-08\n"
     ]
    }
   ],
   "source": [
    "# Complete the implementation of softmax_loss_naive and implement a (naive)\n",
    "# version of the gradient that uses nested loops.\n",
    "loss, grad = softmax_loss_naive(W, X_dev, y_dev, 0.0)\n",
    "\n",
    "# As we did for the SVM, use numeric gradient checking as a debugging tool.\n",
    "# The numeric gradient should be close to the analytic gradient.\n",
    "from cs231n.gradient_check import grad_check_sparse\n",
    "f = lambda w: softmax_loss_naive(w, X_dev, y_dev, 0.0)[0]\n",
    "grad_numerical = grad_check_sparse(f, W, grad, 10)\n",
    "\n",
    "# similar to SVM case, do another gradient check with regularization\n",
    "loss, grad = softmax_loss_naive(W, X_dev, y_dev, 5e1)\n",
    "f = lambda w: softmax_loss_naive(w, X_dev, y_dev, 5e1)[0]\n",
    "grad_numerical = grad_check_sparse(f, W, grad, 10)"
   ]
  },
  {
   "cell_type": "code",
   "execution_count": 22,
   "metadata": {},
   "outputs": [
    {
     "name": "stdout",
     "output_type": "stream",
     "text": [
      "naive loss: 2.356502e+00 computed in 0.002500s\n",
      "vectorized loss: 2.356502e+00 computed in 0.002501s\n",
      "Loss difference: 0.000000\n",
      "Gradient difference: 0.000000\n"
     ]
    }
   ],
   "source": [
    "# Now that we have a naive implementation of the softmax loss function and its gradient,\n",
    "# implement a vectorized version in softmax_loss_vectorized.\n",
    "# The two versions should compute the same results, but the vectorized version should be\n",
    "# much faster.\n",
    "tic = time.time()\n",
    "loss_naive, grad_naive = softmax_loss_naive(W, X_dev, y_dev, 0.000005)\n",
    "toc = time.time()\n",
    "print('naive loss: %e computed in %fs' % (loss_naive, toc - tic))\n",
    "\n",
    "from cs231n.classifiers.softmax import softmax_loss_vectorized\n",
    "tic = time.time()\n",
    "loss_vectorized, grad_vectorized = softmax_loss_vectorized(W, X_dev, y_dev, 0.000005)\n",
    "toc = time.time()\n",
    "print('vectorized loss: %e computed in %fs' % (loss_vectorized, toc - tic))\n",
    "\n",
    "# As we did for the SVM, we use the Frobenius norm to compare the two versions\n",
    "# of the gradient.\n",
    "grad_difference = np.linalg.norm(grad_naive - grad_vectorized, ord='fro')\n",
    "print('Loss difference: %f' % np.abs(loss_naive - loss_vectorized))\n",
    "print('Gradient difference: %f' % grad_difference)"
   ]
  },
  {
   "cell_type": "code",
   "execution_count": 26,
   "metadata": {
    "id": "tuning",
    "tags": [
     "code"
    ]
   },
   "outputs": [
    {
     "name": "stdout",
     "output_type": "stream",
     "text": [
      "iteration 0 / 1000: loss 35.960827\n",
      "iteration 100 / 1000: loss 32.864853\n",
      "iteration 200 / 1000: loss 31.704945\n",
      "iteration 300 / 1000: loss 30.146991\n",
      "iteration 400 / 1000: loss 28.626526\n",
      "iteration 500 / 1000: loss 27.771574\n",
      "iteration 600 / 1000: loss 26.466860\n",
      "iteration 700 / 1000: loss 25.714623\n",
      "iteration 800 / 1000: loss 24.681159\n",
      "iteration 900 / 1000: loss 23.661564\n",
      "iteration 0 / 1000: loss 311.559479\n",
      "iteration 100 / 1000: loss 208.708132\n",
      "iteration 200 / 1000: loss 140.088046\n",
      "iteration 300 / 1000: loss 94.213249\n",
      "iteration 400 / 1000: loss 63.611107\n",
      "iteration 500 / 1000: loss 43.218498\n",
      "iteration 600 / 1000: loss 29.490265\n",
      "iteration 700 / 1000: loss 20.382683\n",
      "iteration 800 / 1000: loss 14.354426\n",
      "iteration 900 / 1000: loss 10.263006\n",
      "iteration 0 / 1000: loss 777.076830\n",
      "iteration 100 / 1000: loss 285.203387\n",
      "iteration 200 / 1000: loss 105.727263\n",
      "iteration 300 / 1000: loss 39.944657\n",
      "iteration 400 / 1000: loss 15.943027\n",
      "iteration 500 / 1000: loss 7.186956\n",
      "iteration 600 / 1000: loss 3.925568\n",
      "iteration 700 / 1000: loss 2.661778\n",
      "iteration 800 / 1000: loss 2.335334\n",
      "iteration 900 / 1000: loss 2.190280\n",
      "iteration 0 / 1000: loss 1536.424485\n",
      "iteration 100 / 1000: loss 206.971473\n",
      "iteration 200 / 1000: loss 29.487790\n",
      "iteration 300 / 1000: loss 5.805211\n",
      "iteration 400 / 1000: loss 2.653183\n",
      "iteration 500 / 1000: loss 2.211274\n",
      "iteration 600 / 1000: loss 2.069780\n",
      "iteration 700 / 1000: loss 2.123265\n",
      "iteration 800 / 1000: loss 2.115737\n",
      "iteration 900 / 1000: loss 2.097597\n",
      "iteration 0 / 1000: loss 35.271449\n",
      "iteration 100 / 1000: loss 28.059676\n",
      "iteration 200 / 1000: loss 22.663922\n",
      "iteration 300 / 1000: loss 18.761664\n",
      "iteration 400 / 1000: loss 15.785010\n",
      "iteration 500 / 1000: loss 12.995532\n",
      "iteration 600 / 1000: loss 10.915712\n",
      "iteration 700 / 1000: loss 9.272730\n",
      "iteration 800 / 1000: loss 7.830773\n",
      "iteration 900 / 1000: loss 6.711673\n",
      "iteration 0 / 1000: loss 311.702056\n",
      "iteration 100 / 1000: loss 42.893188\n",
      "iteration 200 / 1000: loss 7.401349\n",
      "iteration 300 / 1000: loss 2.741126\n",
      "iteration 400 / 1000: loss 2.098287\n",
      "iteration 500 / 1000: loss 1.981614\n",
      "iteration 600 / 1000: loss 1.899222\n",
      "iteration 700 / 1000: loss 2.014761\n",
      "iteration 800 / 1000: loss 2.106591\n",
      "iteration 900 / 1000: loss 2.025458\n",
      "iteration 0 / 1000: loss 768.372467\n",
      "iteration 100 / 1000: loss 6.906478\n",
      "iteration 200 / 1000: loss 2.150210\n",
      "iteration 300 / 1000: loss 2.103503\n",
      "iteration 400 / 1000: loss 2.073488\n",
      "iteration 500 / 1000: loss 2.134362\n",
      "iteration 600 / 1000: loss 2.031582\n",
      "iteration 700 / 1000: loss 2.060488\n",
      "iteration 800 / 1000: loss 2.077383\n",
      "iteration 900 / 1000: loss 2.092484\n",
      "iteration 0 / 1000: loss 1561.206298\n",
      "iteration 100 / 1000: loss 2.228578\n",
      "iteration 200 / 1000: loss 2.133657\n",
      "iteration 300 / 1000: loss 2.170859\n",
      "iteration 400 / 1000: loss 2.112948\n",
      "iteration 500 / 1000: loss 2.188485\n",
      "iteration 600 / 1000: loss 2.109562\n",
      "iteration 700 / 1000: loss 2.163352\n",
      "iteration 800 / 1000: loss 2.128176\n",
      "iteration 900 / 1000: loss 2.143189\n",
      "iteration 0 / 1000: loss 35.005251\n",
      "iteration 100 / 1000: loss 15.419342\n",
      "iteration 200 / 1000: loss 7.973422\n",
      "iteration 300 / 1000: loss 4.469810\n",
      "iteration 400 / 1000: loss 2.927045\n",
      "iteration 500 / 1000: loss 2.333290\n",
      "iteration 600 / 1000: loss 2.011259\n",
      "iteration 700 / 1000: loss 2.018770\n",
      "iteration 800 / 1000: loss 1.798599\n",
      "iteration 900 / 1000: loss 1.881508\n",
      "iteration 0 / 1000: loss 311.253648\n",
      "iteration 100 / 1000: loss 2.067019\n",
      "iteration 200 / 1000: loss 1.939848\n",
      "iteration 300 / 1000: loss 1.979452\n",
      "iteration 400 / 1000: loss 2.006585\n",
      "iteration 500 / 1000: loss 1.998159\n",
      "iteration 600 / 1000: loss 2.003520\n",
      "iteration 700 / 1000: loss 2.020140\n",
      "iteration 800 / 1000: loss 1.965881\n",
      "iteration 900 / 1000: loss 2.041423\n",
      "iteration 0 / 1000: loss 777.062994\n",
      "iteration 100 / 1000: loss 2.122195\n",
      "iteration 200 / 1000: loss 2.146578\n",
      "iteration 300 / 1000: loss 2.077759\n",
      "iteration 400 / 1000: loss 2.118697\n",
      "iteration 500 / 1000: loss 2.094868\n",
      "iteration 600 / 1000: loss 2.066739\n",
      "iteration 700 / 1000: loss 2.108683\n",
      "iteration 800 / 1000: loss 2.103607\n",
      "iteration 900 / 1000: loss 2.092059\n",
      "iteration 0 / 1000: loss 1519.700706\n",
      "iteration 100 / 1000: loss 2.120731\n",
      "iteration 200 / 1000: loss 2.157735\n",
      "iteration 300 / 1000: loss 2.195365\n",
      "iteration 400 / 1000: loss 2.158808\n",
      "iteration 500 / 1000: loss 2.221581\n",
      "iteration 600 / 1000: loss 2.202561\n",
      "iteration 700 / 1000: loss 2.243228\n",
      "iteration 800 / 1000: loss 2.160222\n",
      "iteration 900 / 1000: loss 2.110812\n",
      "lr 1.000000e-07 reg 1.000000e+03 train accuracy: 0.244122 val accuracy: 0.259000\n",
      "lr 1.000000e-07 reg 1.000000e+04 train accuracy: 0.327571 val accuracy: 0.324000\n",
      "lr 1.000000e-07 reg 2.500000e+04 train accuracy: 0.326408 val accuracy: 0.341000\n",
      "lr 1.000000e-07 reg 5.000000e+04 train accuracy: 0.311796 val accuracy: 0.327000\n",
      "lr 5.000000e-07 reg 1.000000e+03 train accuracy: 0.360143 val accuracy: 0.340000\n",
      "lr 5.000000e-07 reg 1.000000e+04 train accuracy: 0.353673 val accuracy: 0.367000\n",
      "lr 5.000000e-07 reg 2.500000e+04 train accuracy: 0.321714 val accuracy: 0.331000\n",
      "lr 5.000000e-07 reg 5.000000e+04 train accuracy: 0.317020 val accuracy: 0.318000\n",
      "lr 2.000000e-06 reg 1.000000e+03 train accuracy: 0.387224 val accuracy: 0.384000\n",
      "lr 2.000000e-06 reg 1.000000e+04 train accuracy: 0.340694 val accuracy: 0.354000\n",
      "lr 2.000000e-06 reg 2.500000e+04 train accuracy: 0.301184 val accuracy: 0.318000\n",
      "lr 2.000000e-06 reg 5.000000e+04 train accuracy: 0.294898 val accuracy: 0.300000\n",
      "best validation accuracy achieved during cross-validation: 0.384000\n"
     ]
    }
   ],
   "source": [
    "# Use the validation set to tune hyperparameters (regularization strength and\n",
    "# learning rate). You should experiment with different ranges for the learning\n",
    "# rates and regularization strengths; if you are careful you should be able to\n",
    "# get a classification accuracy of over 0.35 on the validation set.\n",
    "\n",
    "from cs231n.classifiers import Softmax\n",
    "results = {}\n",
    "best_val = -1\n",
    "best_softmax = None\n",
    "\n",
    "################################################################################\n",
    "# TODO:                                                                        #\n",
    "# Use the validation set to set the learning rate and regularization strength. #\n",
    "# This should be identical to the validation that you did for the SVM; save    #\n",
    "# the best trained softmax classifer in best_softmax.                          #\n",
    "################################################################################\n",
    "\n",
    "# Provided as a reference. You may or may not want to change these hyperparameters\n",
    "learning_rates = [1e-7, 5e-7, 2e-6]\n",
    "regularization_strengths = [1e3, 1e4, 2.5e4, 5e4]\n",
    "\n",
    "# *****START OF YOUR CODE (DO NOT DELETE/MODIFY THIS LINE)*****\n",
    "\n",
    "for lr in learning_rates:\n",
    "    for reg in regularization_strengths:\n",
    "        sfm = Softmax()\n",
    "        sfm.train(X_train, y_train, lr, reg, 1000, verbose=True)\n",
    "        acc_train = np.mean(sfm.predict(X_train)==y_train)\n",
    "        acc_val = np.mean(sfm.predict(X_val)==y_val)\n",
    "        results[(lr,reg)] = (acc_train, acc_val)\n",
    "        if best_val < acc_val:\n",
    "            best_val = acc_val\n",
    "            best_softmax = sfm\n",
    "\n",
    "# *****END OF YOUR CODE (DO NOT DELETE/MODIFY THIS LINE)*****\n",
    "    \n",
    "# Print out results.\n",
    "for lr, reg in sorted(results):\n",
    "    train_accuracy, val_accuracy = results[(lr, reg)]\n",
    "    print('lr %e reg %e train accuracy: %f val accuracy: %f' % (\n",
    "                lr, reg, train_accuracy, val_accuracy))\n",
    "    \n",
    "print('best validation accuracy achieved during cross-validation: %f' % best_val)"
   ]
  },
  {
   "cell_type": "code",
   "execution_count": 28,
   "metadata": {
    "id": "test"
   },
   "outputs": [
    {
     "name": "stdout",
     "output_type": "stream",
     "text": [
      "softmax on raw pixels final test set accuracy: 0.374000\n"
     ]
    }
   ],
   "source": [
    "# evaluate on test set\n",
    "# Evaluate the best softmax on test set\n",
    "y_test_pred = best_softmax.predict(X_test)\n",
    "test_accuracy = np.mean(y_test == y_test_pred)\n",
    "print('softmax on raw pixels final test set accuracy: %f' % (test_accuracy, ))"
   ]
  },
  {
   "cell_type": "markdown",
   "metadata": {
    "tags": [
     "pdf-inline"
    ]
   },
   "source": [
    "**Inline Question 2** - *True or False*\n",
    "\n",
    "Suppose the overall training loss is defined as the sum of the per-datapoint loss over all training examples. It is possible to add a new datapoint to a training set that would leave the SVM loss unchanged, but this is not the case with the Softmax classifier loss.\n",
    "\n",
    "$\\color{blue}{\\textit Your Answer:}$\n",
    "\n",
    "\n",
    "$\\color{blue}{\\textit Your Explanation:}$\n",
    "\n"
   ]
  },
  {
   "cell_type": "code",
   "execution_count": 29,
   "metadata": {},
   "outputs": [
    {
     "data": {
      "image/png": "[encoded data removed]",
      "text/plain": [
       "<Figure size 720x576 with 10 Axes>"
      ]
     },
     "metadata": {
      "needs_background": "light"
     },
     "output_type": "display_data"
    }
   ],
   "source": [
    "# Visualize the learned weights for each class\n",
    "w = best_softmax.W[:-1,:] # strip out the bias\n",
    "w = w.reshape(32, 32, 3, 10)\n",
    "\n",
    "w_min, w_max = np.min(w), np.max(w)\n",
    "\n",
    "classes = ['plane', 'car', 'bird', 'cat', 'deer', 'dog', 'frog', 'horse', 'ship', 'truck']\n",
    "for i in range(10):\n",
    "    plt.subplot(2, 5, i + 1)\n",
    "    \n",
    "    # Rescale the weights to be between 0 and 255\n",
    "    wimg = 255.0 * (w[:, :, :, i].squeeze() - w_min) / (w_max - w_min)\n",
    "    plt.imshow(wimg.astype('uint8'))\n",
    "    plt.axis('off')\n",
    "    plt.title(classes[i])"
   ]
  },
  {
   "cell_type": "code",
   "execution_count": null,
   "metadata": {},
   "outputs": [],
   "source": []
  }
 ],
 "metadata": {
  "kernelspec": {
   "display_name": "Python 3 (ipykernel)",
   "language": "python",
   "name": "python3"
  },
  "language_info": {
   "codemirror_mode": {
    "name": "ipython",
    "version": 3
   },
   "file_extension": ".py",
   "mimetype": "text/x-python",
   "name": "python",
   "nbconvert_exporter": "python",
   "pygments_lexer": "ipython3",
   "version": "3.9.5"
  }
 },
 "nbformat": 4,
 "nbformat_minor": 4
}
