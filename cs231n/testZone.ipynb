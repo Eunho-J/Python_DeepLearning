{
 "cells": [
  {
   "cell_type": "code",
   "execution_count": 1,
   "id": "2552db19",
   "metadata": {},
   "outputs": [
    {
     "name": "stdout",
     "output_type": "stream",
     "text": [
      "[[ 0  1  2  3]\n",
      " [ 4  5  6  7]\n",
      " [ 8  9 10 11]]\n"
     ]
    }
   ],
   "source": [
    "import numpy as np\n",
    "X = np.arange(12).reshape((3,4))\n",
    "print(X)"
   ]
  },
  {
   "cell_type": "code",
   "execution_count": 4,
   "id": "a1dbe561",
   "metadata": {},
   "outputs": [],
   "source": [
    "Y = np.arange(12).reshape((4,3))"
   ]
  },
  {
   "cell_type": "code",
   "execution_count": 5,
   "id": "a7a91801",
   "metadata": {},
   "outputs": [
    {
     "name": "stdout",
     "output_type": "stream",
     "text": [
      "[[ 42  48  54]\n",
      " [114 136 158]\n",
      " [186 224 262]]\n"
     ]
    }
   ],
   "source": [
    "print(np.dot(X,Y))"
   ]
  },
  {
   "cell_type": "code",
   "execution_count": 8,
   "id": "e5ac1f4d",
   "metadata": {},
   "outputs": [
    {
     "name": "stdout",
     "output_type": "stream",
     "text": [
      "[[ 45.  45.  45.  45.  45.  45.  45.  45.  45.  45.]\n",
      " [145. 145. 145. 145. 145. 145. 145. 145. 145. 145.]\n",
      " [245. 245. 245. 245. 245. 245. 245. 245. 245. 245.]]\n",
      "[[ 45.  45.  45.  45.  45.  45.  45.  45.  45.  45.]\n",
      " [145. 145. 145. 145. 145. 145. 145. 145. 145. 145.]\n",
      " [245. 245. 245. 245. 245. 245. 245. 245. 245. 245.]]\n"
     ]
    }
   ],
   "source": [
    "oneTen = np.ones((1,10))\n",
    "tenOne = np.ones((10,1))\n",
    "tenTen = np.ones((10,10))\n",
    "print(np.arange(30).reshape(3,10).dot(tenOne.dot(oneTen)))\n",
    "print(np.arange(30).reshape(3,10).dot(tenTen))"
   ]
  },
  {
   "cell_type": "code",
   "execution_count": 2,
   "id": "14f3b07d",
   "metadata": {},
   "outputs": [
    {
     "name": "stdout",
     "output_type": "stream",
     "text": [
      "[12 15 18 21]\n"
     ]
    }
   ],
   "source": [
    "print(np.sum(X, axis=0))"
   ]
  },
  {
   "cell_type": "code",
   "execution_count": null,
   "id": "b8277197",
   "metadata": {},
   "outputs": [],
   "source": []
  }
 ],
 "metadata": {
  "kernelspec": {
   "display_name": "Python 3 (ipykernel)",
   "language": "python",
   "name": "python3"
  },
  "language_info": {
   "codemirror_mode": {
    "name": "ipython",
    "version": 3
   },
   "file_extension": ".py",
   "mimetype": "text/x-python",
   "name": "python",
   "nbconvert_exporter": "python",
   "pygments_lexer": "ipython3",
   "version": "3.9.5"
  }
 },
 "nbformat": 4,
 "nbformat_minor": 5
}
