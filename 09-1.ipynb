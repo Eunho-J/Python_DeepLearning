{
 "cells": [
  {
   "cell_type": "markdown",
   "id": "176a3ef1",
   "metadata": {},
   "source": [
    "# 딥러닝 학습 기술\n",
    "- Optimization(매개변수 갱신)\n",
    "- Weight Decay\n",
    "- Batch Normalization\n",
    "- 과대적합(Overfitting) / 과소적합(Underfitting)\n",
    "- 규제화(Regularization)\n",
    "- Drop Out\n",
    "- Hyper Parameters\n",
    "    - 학습률\n",
    "    - 학습 횟수\n",
    "    - 미니배치 크기"
   ]
  },
  {
   "cell_type": "code",
   "execution_count": 1,
   "id": "e069553b",
   "metadata": {},
   "outputs": [],
   "source": [
    "#확률적 경사하강법(Stochastic Gradient Descent, SGD)\n",
    "class SGD:\n",
    "    def __init__(self, learning_rate=0.01):\n",
    "        self.learning_rate = learning_rate\n",
    "        \n",
    "    def update(self, params, grads):\n",
    "        for key in params.keys():\n",
    "            params[key] -= self.learning_rate * grads[key]"
   ]
  },
  {
   "cell_type": "markdown",
   "id": "264d4455",
   "metadata": {},
   "source": [
    "SGD는 문제에 따라 시간이 매우 오래 걸림\n",
    "## 모멘텀\n",
    "- 경사하강을 좀 더 유지하려는 성격을 가짐\n",
    "- 관성"
   ]
  },
  {
   "cell_type": "code",
   "execution_count": null,
   "id": "925e3d21",
   "metadata": {},
   "outputs": [],
   "source": [
    "class Momentum():\n",
    "    def __init__(self, learning_rate=0.01, momentum=0.9):\n",
    "        self.learning_rate = learning_rate\n",
    "        self.momentum = momentum\n",
    "        self.v = None\n",
    "        \n",
    "    def update(self, params, grads):\n",
    "        if self.v is None:\n",
    "            self.v = {}\n",
    "            for key, val in params.items():\n",
    "                self.v[key] = np.zeros_like(val)\n",
    "        \n",
    "        for key in params.keys():\n",
    "            self.v[key] = self.momentum * self.v[key] - self.learning_rate * grads[key]\n",
    "            params[key] += self.v[key]"
   ]
  },
  {
   "cell_type": "code",
   "execution_count": 2,
   "id": "d7f332b5",
   "metadata": {},
   "outputs": [],
   "source": [
    "import numpy as np\n",
    "class RMSprop():\n",
    "    def __init__(self, learning_rate=0.01, decay_rate=0.99):\n",
    "        self.learning_rate = learning_rate\n",
    "        self.decay_rate = decay_rate\n",
    "        self. h = None\n",
    "        \n",
    "    def update(self, params, grads):\n",
    "        if self.h is None:\n",
    "            self.h = {}\n",
    "            for key, val in prams.items():\n",
    "                self.h[key] *= self.decay_rate\n",
    "                \n",
    "        for key in params.keys():\n",
    "            self.h[key] *= self.decay_rate\n",
    "            self.h[key] += (1 - self.decay_rate) * grads[key] * grads[key]\n",
    "            params[key] -= self.learning_rate * grads[key] / (np.sqrt(self.h[key]) + 1e-7)"
   ]
  },
  {
   "cell_type": "code",
   "execution_count": 3,
   "id": "21f75c67",
   "metadata": {},
   "outputs": [],
   "source": [
    "#가장 많이 사용되는 최적화 방법\n",
    "class Adam():\n",
    "    def __init__(self, learning_rate=0.001, beta1=0.9, beta2=0.999):\n",
    "        self.learning_rate = learning_rate\n",
    "        self.beta1 = beta1\n",
    "        self.beta2 = beta2\n",
    "        self.iter = 0\n",
    "        self.m = None\n",
    "        self.v = None\n",
    "        \n",
    "    def update(self, params, grads):\n",
    "        if self.m is None:\n",
    "            self.m, self.v = {}, {}\n",
    "            for key, val in params.items():\n",
    "                self.m[key] = np.zeros_like(val)\n",
    "                self.v[key] = np.zeros_like(val)\n",
    "                \n",
    "        self.iter += 1\n",
    "        learning_rate_t = self.learning_rate * np.sqrt(1.0 - self.beta2 ** self.iter) / (1.0 - self.beta1 ** self.iter)\n",
    "        \n",
    "        for key in params.keys():\n",
    "            self.m[key] += (1 - self.beta1) * (grads[key] - self.m[key])\n",
    "            self.v[key] += (1 - self.beta2) * (grads[key] ** 2 - self.v[key])\n",
    "            \n",
    "            params[key] -= learning_rate_t * self.m[key] / (np.sqrt(self.v[key]) + 1e-7)"
   ]
  },
  {
   "cell_type": "code",
   "execution_count": null,
   "id": "e8619a2a",
   "metadata": {},
   "outputs": [],
   "source": []
  }
 ],
 "metadata": {
  "kernelspec": {
   "display_name": "Python 3 (ipykernel)",
   "language": "python",
   "name": "python3"
  },
  "language_info": {
   "codemirror_mode": {
    "name": "ipython",
    "version": 3
   },
   "file_extension": ".py",
   "mimetype": "text/x-python",
   "name": "python",
   "nbconvert_exporter": "python",
   "pygments_lexer": "ipython3",
   "version": "3.9.5"
  }
 },
 "nbformat": 4,
 "nbformat_minor": 5
}
