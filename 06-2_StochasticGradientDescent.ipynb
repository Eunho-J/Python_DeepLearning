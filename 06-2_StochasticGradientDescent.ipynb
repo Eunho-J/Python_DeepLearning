{
 "cells": [
  {
   "cell_type": "code",
   "execution_count": 2,
   "id": "26bc02e2",
   "metadata": {},
   "outputs": [],
   "source": [
    "## 다중 클래스 구조\n",
    "# = 확률적 경사 하강법(Stochastic Gradient Descent) 또는 미니 배치 학습법(mini-batch learning)\n",
    "\n",
    "#MNIST\n",
    "import numpy as np\n",
    "import matplotlib.pyplot as plt\n",
    "import tensorflow as tf\n",
    "import time\n",
    "from tqdm.notebook import tqdm\n",
    "plt.style.use('seaborn-whitegrid')"
   ]
  },
  {
   "cell_type": "code",
   "execution_count": 3,
   "id": "3a2d9ff3",
   "metadata": {},
   "outputs": [],
   "source": [
    "mnist = tf.keras.datasets.mnist\n",
    "\n",
    "(x_train, y_train), (x_test, y_test) = mnist.load_data()"
   ]
  },
  {
   "cell_type": "code",
   "execution_count": 4,
   "id": "addbff68",
   "metadata": {},
   "outputs": [
    {
     "name": "stdout",
     "output_type": "stream",
     "text": [
      "(60000, 28, 28)\n",
      "(60000,)\n",
      "(10000, 28, 28)\n",
      "(10000,)\n"
     ]
    }
   ],
   "source": [
    "#dataset 형태\n",
    "print(x_train.shape)\n",
    "print(y_train.shape)\n",
    "print(x_test.shape)\n",
    "print(y_test.shape)"
   ]
  },
  {
   "cell_type": "code",
   "execution_count": 5,
   "id": "b85cd510",
   "metadata": {},
   "outputs": [
    {
     "name": "stdout",
     "output_type": "stream",
     "text": [
      "(28, 28)\n",
      "5\n"
     ]
    },
    {
     "data": {
      "image/png": "[encoded data removed]",
      "text/plain": [
       "<Figure size 432x288 with 1 Axes>"
      ]
     },
     "metadata": {},
     "output_type": "display_data"
    }
   ],
   "source": [
    "img = x_train[0]\n",
    "print(img.shape)\n",
    "\n",
    "plt.imshow(img, cmap='gray')\n",
    "print(y_train[0])"
   ]
  },
  {
   "cell_type": "code",
   "execution_count": 6,
   "id": "cd894976",
   "metadata": {},
   "outputs": [],
   "source": [
    "#데이터 전처리 (이미지 2차 배열을 1차 배열로 flatten)\n",
    "def flatten_for_mnist(x):\n",
    "    temp = np.zeros((x.shape[0], x[0].size))\n",
    "    \n",
    "    for idx, data in enumerate(x):\n",
    "        temp[idx, :] = data.flatten()\n",
    "        \n",
    "    return temp"
   ]
  },
  {
   "cell_type": "code",
   "execution_count": 7,
   "id": "2593b90f",
   "metadata": {},
   "outputs": [
    {
     "name": "stdout",
     "output_type": "stream",
     "text": [
      "(60000, 784)\n",
      "(10000, 784)\n",
      "(60000, 10)\n",
      "(10000, 10)\n"
     ]
    }
   ],
   "source": [
    "x_train, x_test = x_train / 255.0, x_test / 255.0\n",
    "\n",
    "x_train = flatten_for_mnist(x_train)\n",
    "x_test = flatten_for_mnist(x_test)\n",
    "\n",
    "print(x_train.shape)\n",
    "print(x_test.shape)\n",
    "\n",
    "y_train_ohe = tf.one_hot(y_train, depth=10).numpy()\n",
    "y_test_ohe = tf.one_hot(y_test, depth=10).numpy()\n",
    "\n",
    "print(y_train_ohe.shape)\n",
    "print(y_test_ohe.shape)"
   ]
  },
  {
   "cell_type": "code",
   "execution_count": 8,
   "id": "91fbccc2",
   "metadata": {},
   "outputs": [
    {
     "name": "stdout",
     "output_type": "stream",
     "text": [
      "1.0 0.0\n",
      "[0. 0. 0. 0. 0. 1. 0. 0. 0. 0.]\n"
     ]
    }
   ],
   "source": [
    "print(x_train[0].max(), x_train[0].min())\n",
    "print(y_train_ohe[0])"
   ]
  },
  {
   "cell_type": "code",
   "execution_count": 23,
   "id": "318eb39a",
   "metadata": {},
   "outputs": [],
   "source": [
    "#하이퍼 파라미터 Hyper Parameter\n",
    "epochs = 5\n",
    "lr = 0.3\n",
    "batch_size = 100\n",
    "train_size = x_train.shape[0]"
   ]
  },
  {
   "cell_type": "code",
   "execution_count": 24,
   "id": "427d5377",
   "metadata": {},
   "outputs": [],
   "source": [
    "#유틸 함수 Util Functions\n",
    "def sigmoid(x):\n",
    "    return 1/ (1 + np.exp(-x))\n",
    "\n",
    "def mean_squared_error(pred_y, true_y):\n",
    "    return np.mean(np.sum(np.square((true_y - pred_y))))\n",
    "\n",
    "def cross_entropy_error(pred_y, true_y):\n",
    "    if true_y.ndim == 1:\n",
    "        true_y = true_y.reshape(1, -1)\n",
    "        pred_y = pred_y.reshape(1, -1)\n",
    "        \n",
    "    delta = 1e-7\n",
    "    return -np.sum(true_y * np.log(pred_y + delta))\n",
    "\n",
    "def cross_entropy_error_for_batch(pred_y, true_y):\n",
    "    if true_y.ndim == 1:\n",
    "        true_y = true_y.reshape(1, -1)\n",
    "        pred_y = pred_y.reshape(1, -1)\n",
    "        \n",
    "    delta = 1e-7\n",
    "    batch_size = pred_y.shape[0]\n",
    "    return -np.sum(true_y * np.log(pred_y + delta)) / batch_size\n",
    "\n",
    "def cross_entropy_error_for_bin(pred_y, true_y):\n",
    "    return 0.5 * np.sum((-true_y * np.log(pred_y) - (1 - true_y) * np.log(1 - pred_y)))\n",
    "\n",
    "def softmax(a):\n",
    "    exp_a = np.exp(a)\n",
    "    sum_exp_a = np.sum(exp_a)\n",
    "    return exp_a / sum_exp_a\n",
    "\n",
    "def differential_1d(f, x):\n",
    "    eps = 1e-5\n",
    "    diff_value = np.zeros_like(x)\n",
    "    \n",
    "\n",
    "    for i in range(x.shape[0]):\n",
    "        temp_val = x[i]\n",
    "        \n",
    "        x[i] = temp_val + eps\n",
    "        f_h1 = f(x)\n",
    "        \n",
    "        x[i] = temp_val - eps\n",
    "        f_h2 = f(x)\n",
    "        \n",
    "        diff_value[i] = (f_h1 - f_h2) / (2 * eps)\n",
    "        x[i] = temp_val\n",
    "        \n",
    "    return diff_value\n",
    "\n",
    "def differential_2d(f, X):\n",
    "    if X.ndim == 1:\n",
    "         return differential_1d(f, X)\n",
    "    else:\n",
    "        grad = np.zeros_like(X)\n",
    "        \n",
    "        for idx, x in enumerate(X):\n",
    "            grad[idx] = differential_1d(f, x)\n",
    "        \n",
    "        return grad"
   ]
  },
  {
   "cell_type": "code",
   "execution_count": 25,
   "id": "b2446584",
   "metadata": {},
   "outputs": [],
   "source": [
    "#2층 신경망\n",
    "class MyModel(object):\n",
    "    \n",
    "    def __init__(self):\n",
    "        \n",
    "        def weight_init(input_nodes, hidden_nodes, output_units):\n",
    "            np.random.seed(777)\n",
    "            params = {}\n",
    "            params['w_1'] = 0.01 * np.random.randn(input_nodes, hidden_nodes)\n",
    "            params['b_1'] = np.zeros(hidden_nodes)\n",
    "            params['w_2'] = 0.01 * np.random.randn(hidden_nodes, output_units)\n",
    "            params['b_2'] = np.zeros(output_units)\n",
    "            return params\n",
    "        \n",
    "        self.params = weight_init(784, 64, 10)\n",
    "        \n",
    "    def predict(self, x):\n",
    "        W_1, W_2 = self.params['w_1'], self.params['w_2']\n",
    "        B_1, B_2 = self.params['b_1'], self.params['b_2']\n",
    "        \n",
    "        A1 = np.dot(x, W_1) + B_1\n",
    "        Z1 = sigmoid(A1)\n",
    "        A2 = np.dot(Z1, W_2) + B_2\n",
    "        pred_y = softmax(A2)\n",
    "        \n",
    "        return pred_y\n",
    "    \n",
    "    def loss(self, x, true_y):\n",
    "        pred_y = self.predict(x)\n",
    "        return cross_entropy_error_for_bin(pred_y, true_y)\n",
    "    \n",
    "    def accuracy(self, x, true_y):\n",
    "        pred_y = self.predict(x)\n",
    "        y_argmax = np.argmax(pred_y, axis=1)\n",
    "        t_argmax = np.argmax(true_y, axis=1)\n",
    "        accuracy = np.sum(y_argmax == t_argmax) / float(x.shape[0])\n",
    "        return accuracy\n",
    "    \n",
    "    def get_gradient(self, x, t):\n",
    "        def loss_grad(grad):\n",
    "            return self.loss(x, t)\n",
    "        \n",
    "        grads = {}\n",
    "        grads['w_1'] = differential_2d(loss_grad, self.params['w_1'])\n",
    "        grads['b_1'] = differential_2d(loss_grad, self.params['b_1'])\n",
    "        grads['w_2'] = differential_2d(loss_grad, self.params['w_2'])\n",
    "        grads['b_2'] = differential_2d(loss_grad, self.params['b_2'])\n",
    "        \n",
    "        return grads"
   ]
  },
  {
   "cell_type": "code",
   "execution_count": 26,
   "id": "5d4c6c27",
   "metadata": {},
   "outputs": [
    {
     "data": {
      "application/vnd.jupyter.widget-view+json": {
       "model_id": "7dc01098d26c4a57962af9ab268e9693",
       "version_major": 2,
       "version_minor": 0
      },
      "text/plain": [
       "  0%|          | 0/5 [00:00<?, ?it/s]"
      ]
     },
     "metadata": {},
     "output_type": "display_data"
    },
    {
     "name": "stdout",
     "output_type": "stream",
     "text": [
      "Epoch: 1, Cost: 913.4871128983332, Train Accuracy: 0.10441666666666667, Test Accuracy: 0.1028\n",
      "Epoch: 2, Cost: 410.57309964955533, Train Accuracy: 0.09751666666666667, Test Accuracy: 0.0974\n",
      "Epoch: 3, Cost: 452.0649921784976, Train Accuracy: 0.09871666666666666, Test Accuracy: 0.098\n",
      "Epoch: 4, Cost: 376.3738433788608, Train Accuracy: 0.10218333333333333, Test Accuracy: 0.101\n",
      "Epoch: 5, Cost: 381.6949051777194, Train Accuracy: 0.0993, Test Accuracy: 0.1032\n",
      "총 학습 소요시간: 119.923s\n"
     ]
    }
   ],
   "source": [
    "#모델 생성 및 학습\n",
    "model = MyModel()\n",
    "\n",
    "train_loss_list = list()\n",
    "train_acc_list = list()\n",
    "test_acc_list = list()\n",
    "iter_per_epoch = max(train_size / batch_size, 1)\n",
    "\n",
    "start_time = time.time()\n",
    "for i in tqdm(range(epochs)):\n",
    "    \n",
    "    batch_idx = np.random.choice(train_size, batch_size)\n",
    "    x_batch = x_train[batch_idx]\n",
    "    y_batch = y_train_ohe[batch_idx]\n",
    "    \n",
    "    grads = model.get_gradient(x_batch, y_batch)\n",
    "    \n",
    "    for key in grads.keys():\n",
    "        model.params[key] -= lr * grads[key]\n",
    "        \n",
    "    loss = model.loss(x_batch, y_batch)\n",
    "    train_loss_list.append(loss)\n",
    "    \n",
    "    train_accuracy = model.accuracy(x_train, y_train_ohe)\n",
    "    test_accuracy = model.accuracy(x_test, y_test_ohe)\n",
    "    train_acc_list.append(train_accuracy)\n",
    "    test_acc_list.append(test_accuracy)\n",
    "    \n",
    "    print(\"Epoch: {}, Cost: {}, Train Accuracy: {}, Test Accuracy: {}\"\n",
    "         .format(i+1, loss, train_accuracy, test_accuracy))\n",
    "    \n",
    "end_time = time.time()\n",
    "print(\"총 학습 소요시간: {:.3f}s\".format(end_time - start_time))"
   ]
  },
  {
   "cell_type": "code",
   "execution_count": 31,
   "id": "ab3a4230",
   "metadata": {},
   "outputs": [
    {
     "data": {
      "text/plain": [
       "array([6.25927895e-02, 1.05181100e-01, 1.89510909e-01, 4.47110538e-02,\n",
       "       1.03539915e-01, 1.04549135e-01, 1.31130957e-01, 1.10196788e-04,\n",
       "       1.40088465e-01, 1.18585478e-01])"
      ]
     },
     "execution_count": 31,
     "metadata": {},
     "output_type": "execute_result"
    }
   ],
   "source": [
    "model.predict(x_train[0])"
   ]
  },
  {
   "cell_type": "code",
   "execution_count": null,
   "id": "a51b5b50",
   "metadata": {},
   "outputs": [],
   "source": []
  }
 ],
 "metadata": {
  "kernelspec": {
   "display_name": "Python 3 (ipykernel)",
   "language": "python",
   "name": "python3"
  },
  "language_info": {
   "codemirror_mode": {
    "name": "ipython",
    "version": 3
   },
   "file_extension": ".py",
   "mimetype": "text/x-python",
   "name": "python",
   "nbconvert_exporter": "python",
   "pygments_lexer": "ipython3",
   "version": "3.9.5"
  }
 },
 "nbformat": 4,
 "nbformat_minor": 5
}
