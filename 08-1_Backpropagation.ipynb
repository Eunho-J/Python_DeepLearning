{
 "cells": [
  {
   "cell_type": "code",
   "execution_count": 1,
   "id": "e8465e5d",
   "metadata": {},
   "outputs": [],
   "source": [
    "import numpy as np"
   ]
  },
  {
   "cell_type": "code",
   "execution_count": 2,
   "id": "f9b4279a",
   "metadata": {},
   "outputs": [],
   "source": [
    "class Mul():\n",
    "    \n",
    "    def __init__(self):\n",
    "        self.x = None\n",
    "        self.y = None\n",
    "        \n",
    "    def forward(self, x, y):\n",
    "        self.x = x\n",
    "        self.y = y\n",
    "        result = x * y\n",
    "        return result\n",
    "    \n",
    "    def backward(self, dresult):\n",
    "        #f = xy 에서 dx = y, dy = x\n",
    "        dx = dresult * self.y\n",
    "        dy = dresult * self.x\n",
    "        return dx, dy"
   ]
  },
  {
   "cell_type": "code",
   "execution_count": 3,
   "id": "ee482dff",
   "metadata": {},
   "outputs": [],
   "source": [
    "class Add():\n",
    "    \n",
    "    def __init__(self):\n",
    "        self.x = None\n",
    "        self.y = None\n",
    "        \n",
    "    def forward(self, x, y):\n",
    "        self.x = x\n",
    "        self.y = y\n",
    "        result = x + y\n",
    "        return result\n",
    "    \n",
    "    def backward(self, dresult):\n",
    "        #f = x + y 에서 dx = 1, dy = 1\n",
    "        dx = dresult\n",
    "        dy = dresult\n",
    "        return dx, dy"
   ]
  },
  {
   "cell_type": "code",
   "execution_count": 4,
   "id": "39c70c02",
   "metadata": {},
   "outputs": [],
   "source": [
    "a, b, c = -1, 3, 4\n",
    "x = Add()\n",
    "y = Add()\n",
    "f = Mul()"
   ]
  },
  {
   "cell_type": "code",
   "execution_count": 5,
   "id": "5961d418",
   "metadata": {},
   "outputs": [
    {
     "name": "stdout",
     "output_type": "stream",
     "text": [
      "2\n",
      "7\n",
      "14\n"
     ]
    }
   ],
   "source": [
    "x_result = x.forward(a, b)\n",
    "y_result = y.forward(b, c)\n",
    "\n",
    "print(x_result)\n",
    "print(y_result)\n",
    "print(f.forward(x_result, y_result))"
   ]
  },
  {
   "cell_type": "code",
   "execution_count": 6,
   "id": "198c6afe",
   "metadata": {},
   "outputs": [
    {
     "name": "stdout",
     "output_type": "stream",
     "text": [
      "7 2\n",
      "7\n",
      "9\n",
      "2\n"
     ]
    }
   ],
   "source": [
    "dresult = 1\n",
    "dx_mul, dy_mul = f.backward(dresult)\n",
    "\n",
    "da_add, db_add_x = x.backward(dx_mul)\n",
    "db_add_y, dc_add = y.backward(dy_mul)\n",
    "\n",
    "print(dx_mul, dy_mul)\n",
    "print(da_add)\n",
    "print(db_add_x + db_add_y)\n",
    "print(dc_add)"
   ]
  },
  {
   "cell_type": "code",
   "execution_count": 43,
   "id": "090bad98",
   "metadata": {},
   "outputs": [],
   "source": [
    "#활성화 함수에서의 Backpropagation\n",
    "class Sigmoid():\n",
    "    def __init__(self):\n",
    "        self.out = None\n",
    "        \n",
    "    def forward(self, x):\n",
    "        self.out = 1 / (1 + np.exp(-x))\n",
    "        return self.out\n",
    "    \n",
    "    def backward(self, dout):\n",
    "        #f = 1 / (1 + e^-x) 일 때 df = f(1-f)\n",
    "        dx = dout * (1.0 - self.out) * self.out\n",
    "        return dx"
   ]
  },
  {
   "cell_type": "code",
   "execution_count": 44,
   "id": "d6b50634",
   "metadata": {},
   "outputs": [],
   "source": [
    "#ReLU\n",
    "class ReLU():\n",
    "    def __init__(self):\n",
    "        self.out = None\n",
    "        \n",
    "    def forward(self, x):\n",
    "        self.mask = (x < 0)\n",
    "        self.out = x.copy()\n",
    "        self.out[x<0] = 0\n",
    "        return self.out\n",
    "            \n",
    "    def backward(self, dout):\n",
    "        dout[self.mask] = 0\n",
    "        dx = dout\n",
    "        return dx"
   ]
  },
  {
   "cell_type": "code",
   "execution_count": 45,
   "id": "c4d793b8",
   "metadata": {},
   "outputs": [],
   "source": [
    "## 행렬 연산에서의 역전파"
   ]
  },
  {
   "cell_type": "code",
   "execution_count": 46,
   "id": "8cb59404",
   "metadata": {},
   "outputs": [
    {
     "name": "stdout",
     "output_type": "stream",
     "text": [
      "(2,) (2, 3) (3,)\n"
     ]
    }
   ],
   "source": [
    "# 순전파\n",
    "X = np.random.rand(2)\n",
    "W = np.random.rand(2, 3)\n",
    "B = np.random.rand(3)\n",
    "\n",
    "print(X.shape, W.shape, B.shape)"
   ]
  },
  {
   "cell_type": "code",
   "execution_count": 47,
   "id": "3b321985",
   "metadata": {},
   "outputs": [
    {
     "name": "stdout",
     "output_type": "stream",
     "text": [
      "(3,)\n"
     ]
    }
   ],
   "source": [
    "Y = np.dot(X, W) + B\n",
    "print(Y.shape)"
   ]
  },
  {
   "cell_type": "code",
   "execution_count": 48,
   "id": "efc34334",
   "metadata": {},
   "outputs": [
    {
     "name": "stdout",
     "output_type": "stream",
     "text": [
      "dL_dY\n",
      "[-0.88503985  1.20742497 -0.41880982]\n",
      "dL_dX\n",
      "[-0.76883137  0.29534097]\n",
      "dL_dW\n",
      "[[-0.82217214  1.12165703 -0.38906018]\n",
      " [-0.01189723  0.01623092 -0.00562989]]\n",
      "dL_dB\n",
      "[-0.88503985  1.20742497 -0.41880982]\n"
     ]
    }
   ],
   "source": [
    "#역전파\n",
    "dL_dY = np.random.randn(3)\n",
    "dL_dX = np.dot(dL_dY, W.T)\n",
    "dL_dW = np.dot(X.reshape(-1, 1), dL_dY.reshape(1, -1))\n",
    "dL_dB = dL_dY\n",
    "\n",
    "print(\"dL_dY\\n{}\".format(dL_dY))\n",
    "print(\"dL_dX\\n{}\".format(dL_dX))\n",
    "print(\"dL_dW\\n{}\".format(dL_dW))\n",
    "print(\"dL_dB\\n{}\".format(dL_dB))\n"
   ]
  },
  {
   "cell_type": "code",
   "execution_count": 49,
   "id": "4731547b",
   "metadata": {},
   "outputs": [],
   "source": [
    "class Layer():\n",
    "    def __init__(self):\n",
    "        self.W = np.random.randn(3, 2)\n",
    "        self.b = np.random.randn(2)\n",
    "        self.x = None\n",
    "        self.dW = None\n",
    "        self.db = None\n",
    "        \n",
    "    def forward(self, x):\n",
    "        self.x = x\n",
    "        out = np.dot(x, self.W) + self.b\n",
    "        return out\n",
    "    \n",
    "    def backward(self, dout):\n",
    "        dx = np.dot(dout, self.W.T)\n",
    "        self.dW = np.dot(self.x.T, dout)\n",
    "        self.db = np.sum(dout, axis=0)\n",
    "        return dx"
   ]
  },
  {
   "cell_type": "code",
   "execution_count": 50,
   "id": "1b3be6ec",
   "metadata": {},
   "outputs": [],
   "source": [
    "np.random.seed(111)\n",
    "\n",
    "layer = Layer()"
   ]
  },
  {
   "cell_type": "code",
   "execution_count": 51,
   "id": "b5556510",
   "metadata": {},
   "outputs": [
    {
     "name": "stdout",
     "output_type": "stream",
     "text": [
      "[[0.23868214 0.33765619 0.99071246]\n",
      " [0.23772645 0.08119266 0.66960024]]\n"
     ]
    }
   ],
   "source": [
    "X = np.random.rand(2, 3)\n",
    "Y = layer.forward(X)\n",
    "print(X)"
   ]
  },
  {
   "cell_type": "code",
   "execution_count": 52,
   "id": "3b64a345",
   "metadata": {},
   "outputs": [
    {
     "name": "stdout",
     "output_type": "stream",
     "text": [
      "[[-0.59898814  0.83225859 -0.61525238]\n",
      " [-0.48312871  0.65565961 -0.42154775]]\n"
     ]
    }
   ],
   "source": [
    "dout = np.random.rand(2, 2)\n",
    "dout_dx = layer.backward(dout)\n",
    "\n",
    "print(dout_dx)"
   ]
  },
  {
   "cell_type": "code",
   "execution_count": 53,
   "id": "b0ba87b4",
   "metadata": {},
   "outputs": [],
   "source": [
    "##MNIST 분류\n",
    "import tensorflow as tf\n",
    "import numpy as np\n",
    "import matplotlib.pyplot as plt\n",
    "plt.style.use('seaborn-whitegrid')\n",
    "from collections import OrderedDict"
   ]
  },
  {
   "cell_type": "code",
   "execution_count": 54,
   "id": "1e5ff034",
   "metadata": {},
   "outputs": [],
   "source": [
    "np.random.seed(42)\n",
    "\n",
    "mnist = tf.keras.datasets.mnist\n",
    "\n",
    "(X_train, y_train), (X_test, y_test) = mnist.load_data()\n",
    "\n",
    "num_classes = 10"
   ]
  },
  {
   "cell_type": "code",
   "execution_count": 55,
   "id": "ddd393b8",
   "metadata": {},
   "outputs": [],
   "source": [
    "#데이터 전처리\n",
    "X_train, X_test = X_train.reshape(-1, 28 * 28).astype(np.float32), X_test.reshape(-1, 28 * 28).astype(np.float32)\n",
    "\n",
    "X_train /= .255\n",
    "X_test /= .255\n",
    "\n",
    "y_train = np.eye(num_classes)[y_train]"
   ]
  },
  {
   "cell_type": "code",
   "execution_count": 56,
   "id": "3e575499",
   "metadata": {},
   "outputs": [
    {
     "name": "stdout",
     "output_type": "stream",
     "text": [
      "(60000, 784)\n",
      "(60000, 10)\n",
      "(10000, 784)\n",
      "(10000,)\n"
     ]
    }
   ],
   "source": [
    "print(X_train.shape)\n",
    "print(y_train.shape)\n",
    "print(X_test.shape)\n",
    "print(y_test.shape)"
   ]
  },
  {
   "cell_type": "code",
   "execution_count": 156,
   "id": "4218dd30",
   "metadata": {},
   "outputs": [],
   "source": [
    "#Hyper Parameters\n",
    "epochs = 1000\n",
    "learning_rate = 1e-3\n",
    "batch_size = 100\n",
    "train_size = X_train.shape[0]"
   ]
  },
  {
   "cell_type": "code",
   "execution_count": 157,
   "id": "1484e207",
   "metadata": {},
   "outputs": [],
   "source": [
    "#Util Functions\n",
    "def softmax(x):\n",
    "    return np.exp(x) / np.sum(np.exp(x), axis=1, keepdims=True)\n",
    "\n",
    "def mean_squared_error(pred_y, true_y):\n",
    "    return 0.5 * np.sum((pred_y - true_y) ** 2)\n",
    "\n",
    "def cross_entropy_error(pred_y, true_y):\n",
    "    if pred_y.ndim == 1:\n",
    "        true_y = true_y.reshape(1, true_y.size)\n",
    "        pred_y = pred_y.reshape(1, pred_y.size)\n",
    "        \n",
    "    if pred_y.size == true_y.size:\n",
    "        true_y = true_y.argmax(axis=1)\n",
    "        \n",
    "    batch_size = pred_y.shape[0]\n",
    "    return -np.sum(np.log(pred_y[np.arange(batch_size), true_y] + 1e-7)) / batch_size\n",
    "\n",
    "def softmax_loss(X, true_y):\n",
    "    pred_y = softmax(X)\n",
    "    return cross_entropy_error(pred_y, true_y)"
   ]
  },
  {
   "cell_type": "code",
   "execution_count": 158,
   "id": "91322357",
   "metadata": {},
   "outputs": [],
   "source": [
    "class Layer():\n",
    "    def __init__(self, W, b):\n",
    "        self.W = W\n",
    "        self.b = b\n",
    "        \n",
    "        self.x = None\n",
    "        self.origin_x_shape = None\n",
    "        \n",
    "        self.dW = None\n",
    "        self.db = None\n",
    "        \n",
    "    def forward(self, x):\n",
    "        self.origin_x_shape = x.shape\n",
    "        x = x.reshape(x.shape[0], -1)\n",
    "        self.x = x\n",
    "        out = np.dot(self.x, self.W) + self.b\n",
    "        return out\n",
    "    \n",
    "    def backward(self, dout):\n",
    "        dx = np.dot(dout, self.W.T)\n",
    "        self.dW = np.dot(self.x.T, dout)\n",
    "        self.db = np.sum(dout, axis=0)\n",
    "        dx = dx.reshape(*self.origin_x_shape)\n",
    "        return dx"
   ]
  },
  {
   "cell_type": "code",
   "execution_count": 159,
   "id": "40a65edd",
   "metadata": {},
   "outputs": [],
   "source": [
    "class Softmax():\n",
    "    def __init__(self):\n",
    "        self.loss = None\n",
    "        self.y = None\n",
    "        self.t = None\n",
    "        \n",
    "    def forward(self, x, t):\n",
    "        self.t = t\n",
    "        self.y = softmax(x)\n",
    "        self.loss = cross_entropy_error(self.y, self.t)\n",
    "        return self.loss\n",
    "    \n",
    "    def backward(self, dout=1):\n",
    "        batch_size = self.t.shape[0]\n",
    "        \n",
    "        if self.t.size == self.y.size:\n",
    "            dx = (self.y - self.t) / batch_size\n",
    "        else:\n",
    "            dx = self.y.copy()\n",
    "            dx[np.arange(batch_size), self.t] -= 1\n",
    "            dx = dx / batch_size\n",
    "            \n",
    "        return dx"
   ]
  },
  {
   "cell_type": "code",
   "execution_count": 160,
   "id": "76d869d5",
   "metadata": {},
   "outputs": [],
   "source": [
    "class MyModel():\n",
    "    def __init__(self, input_size, hidden_size_list, output_size, activation='relu'):\n",
    "        self.input_size = input_size\n",
    "        self.output_size = output_size\n",
    "        self. hidden_size_list = hidden_size_list\n",
    "        self.hidden_layer_num = len(hidden_size_list)\n",
    "        self.params = {}\n",
    "        \n",
    "        self.__init_weights(activation)\n",
    "        \n",
    "        activation_layer = {'sigmoid': Sigmoid, 'relu': ReLU}\n",
    "        self.layers = OrderedDict()\n",
    "        \n",
    "        for idx in range(1, self.hidden_layer_num + 1):\n",
    "            self.layers['Layer' + str(idx)] = Layer(self.params['W' + str(idx)], self.params['b' + str(idx)])\n",
    "            self.layers['Activation_function' + str(idx)] = activation_layer[activation]()\n",
    "            \n",
    "        idx = self.hidden_layer_num + 1\n",
    "        self.layers['Layer' + str(idx)] = Layer(self.params['W' + str(idx)], self.params['b' + str(idx)])\n",
    "        \n",
    "        self.last_layer = Softmax()\n",
    "        \n",
    "    def __init_weights(self, activation):\n",
    "        weight_std = None\n",
    "        all_size_list = [self.input_size] + self.hidden_size_list + [self.output_size]\n",
    "        \n",
    "        for idx in range(1, len(all_size_list)):\n",
    "            if activation.lower() == 'relu':\n",
    "                weight_std = np.sqrt(2.0 / self.input_size)\n",
    "            elif activation.lower() == 'sigmoid':\n",
    "                weight_std = np.sqrt(2.0 / self.input_size)\n",
    "            \n",
    "            self.params['W' + str(idx)] = weight_std * np.random.randn(all_size_list[idx - 1], all_size_list[idx])\n",
    "            self.params['b' + str(idx)] = np.random.randn(all_size_list[idx])\n",
    "        \n",
    "    def predict(self, x):\n",
    "        for layer in self.layers.values():\n",
    "            x = layer.forward(x)\n",
    "        return x\n",
    "\n",
    "    def loss(self, x , true_y):\n",
    "        pred_y = self.predict(x)\n",
    "        return self.last_layer.forward(pred_y, true_y)\n",
    "    \n",
    "    def accuracy(self, x, true_y):\n",
    "        pred_y = self.predict(x)\n",
    "        pred_y = np.argmax(pred_y, axis=1)\n",
    "        \n",
    "        if true_y.ndim != 1:\n",
    "            true_y = np.argmax(true_y, axis=1)\n",
    "            \n",
    "        accuracy = np.sum(pred_y == true_y) / float(x.shape[0])\n",
    "        return accuracy\n",
    "    \n",
    "    def gradient(self, x, t):\n",
    "        self.loss(x, t)\n",
    "        dout = 1\n",
    "        dout = self.last_layer.backward(dout)\n",
    "        \n",
    "        layers = list(self.layers.values())\n",
    "        layers.reverse()\n",
    "        for layer in layers:\n",
    "            dout = layer.backward(dout)\n",
    "            \n",
    "        grads = {}\n",
    "        for idx in range(1, self.hidden_layer_num + 2):\n",
    "            grads['W' + str(idx)] = self.layers['Layer' + str(idx)].dW\n",
    "            grads['b' + str(idx)] = self.layers['Layer' + str(idx)].db\n",
    "            \n",
    "        return grads\n",
    "            \n",
    "        "
   ]
  },
  {
   "cell_type": "code",
   "execution_count": 164,
   "id": "1dbd1756",
   "metadata": {},
   "outputs": [],
   "source": [
    "#모델 생성 및 학습\n",
    "model = MyModel(28 * 28, [100, 64, 32], 10, activation='relu')"
   ]
  },
  {
   "cell_type": "code",
   "execution_count": 165,
   "id": "b2b152f6",
   "metadata": {},
   "outputs": [],
   "source": [
    "train_loss_list = []\n",
    "train_acc_list = []\n",
    "test_acc_list = []"
   ]
  },
  {
   "cell_type": "code",
   "execution_count": 166,
   "id": "8ef20ed9",
   "metadata": {},
   "outputs": [
    {
     "name": "stdout",
     "output_type": "stream",
     "text": [
      "Epoch: 1, Train Acc: 0.1224, Test Acc: 0.1252\n",
      "Epoch: 51, Train Acc: 0.5517, Test Acc: 0.5598\n",
      "Epoch: 101, Train Acc: 0.6799, Test Acc: 0.6852\n",
      "Epoch: 151, Train Acc: 0.7323, Test Acc: 0.7382\n",
      "Epoch: 201, Train Acc: 0.7623, Test Acc: 0.7731\n",
      "Epoch: 251, Train Acc: 0.7870, Test Acc: 0.7941\n",
      "Epoch: 301, Train Acc: 0.8087, Test Acc: 0.8147\n",
      "Epoch: 351, Train Acc: 0.8177, Test Acc: 0.8256\n",
      "Epoch: 401, Train Acc: 0.8320, Test Acc: 0.8371\n",
      "Epoch: 451, Train Acc: 0.8399, Test Acc: 0.8472\n",
      "Epoch: 501, Train Acc: 0.8448, Test Acc: 0.8519\n",
      "Epoch: 551, Train Acc: 0.8514, Test Acc: 0.8584\n",
      "Epoch: 601, Train Acc: 0.8601, Test Acc: 0.8666\n",
      "Epoch: 651, Train Acc: 0.8603, Test Acc: 0.8681\n",
      "Epoch: 701, Train Acc: 0.8661, Test Acc: 0.8710\n",
      "Epoch: 751, Train Acc: 0.8712, Test Acc: 0.8788\n",
      "Epoch: 801, Train Acc: 0.8746, Test Acc: 0.8796\n",
      "Epoch: 851, Train Acc: 0.8762, Test Acc: 0.8805\n",
      "Epoch: 901, Train Acc: 0.8789, Test Acc: 0.8845\n",
      "Epoch: 951, Train Acc: 0.8835, Test Acc: 0.8891\n"
     ]
    }
   ],
   "source": [
    "for epoch in range(epochs):\n",
    "    batch_mask = np.random.choice(train_size, batch_size)\n",
    "    x_batch = X_train[batch_mask]\n",
    "    y_batch = y_train[batch_mask]\n",
    "    \n",
    "    grad = model.gradient(x_batch, y_batch)\n",
    "    \n",
    "    for key in model.params.keys():\n",
    "        model.params[key] -= learning_rate * grad[key]\n",
    "        \n",
    "    loss = model.loss(x_batch, y_batch)\n",
    "    train_loss_list.append(loss)\n",
    "    \n",
    "    if epoch % 50 == 0:\n",
    "        train_acc = model.accuracy(X_train, y_train)\n",
    "        test_acc = model.accuracy(X_test, y_test)\n",
    "        train_acc_list.append(train_acc)\n",
    "        test_acc_list.append(test_acc)\n",
    "        print(\"Epoch: {}, Train Acc: {:.4f}, Test Acc: {:.4f}\".format(epoch + 1, train_acc, test_acc))"
   ]
  },
  {
   "cell_type": "code",
   "execution_count": 167,
   "id": "7d9452d6",
   "metadata": {},
   "outputs": [
    {
     "data": {
      "image/png": "[encoded data removed]",
      "text/plain": [
       "<Figure size 432x288 with 1 Axes>"
      ]
     },
     "metadata": {},
     "output_type": "display_data"
    }
   ],
   "source": [
    "plt.plot(np.arange(1000//50), train_acc_list, 'r--', label='train_acc')\n",
    "plt.plot(np.arange(1000//50), test_acc_list, 'b--', label='test_acc')\n",
    "\n",
    "plt.title('Result')\n",
    "plt.xlabel('Epochs')\n",
    "plt.legend(loc=5)\n",
    "plt.grid()\n",
    "plt.show()"
   ]
  },
  {
   "cell_type": "code",
   "execution_count": 168,
   "id": "cb9d9ba2",
   "metadata": {},
   "outputs": [
    {
     "data": {
      "image/png": "[encoded data removed]",
      "text/plain": [
       "<Figure size 432x288 with 1 Axes>"
      ]
     },
     "metadata": {},
     "output_type": "display_data"
    }
   ],
   "source": [
    "plt.plot(np.arange(1000), train_loss_list, 'green', label='train_loss')\n",
    "plt.title('Train Loss')\n",
    "plt.xlabel('Epochs')\n",
    "plt.legend(loc=5)\n",
    "plt.grid()\n",
    "plt.show()"
   ]
  },
  {
   "cell_type": "code",
   "execution_count": null,
   "id": "8c5daf59",
   "metadata": {},
   "outputs": [],
   "source": []
  }
 ],
 "metadata": {
  "kernelspec": {
   "display_name": "Python 3 (ipykernel)",
   "language": "python",
   "name": "python3"
  },
  "language_info": {
   "codemirror_mode": {
    "name": "ipython",
    "version": 3
   },
   "file_extension": ".py",
   "mimetype": "text/x-python",
   "name": "python",
   "nbconvert_exporter": "python",
   "pygments_lexer": "ipython3",
   "version": "3.9.5"
  }
 },
 "nbformat": 4,
 "nbformat_minor": 5
}
