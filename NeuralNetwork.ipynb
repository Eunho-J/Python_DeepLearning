{
 "cells": [
  {
   "cell_type": "code",
   "execution_count": 1,
   "id": "780f7bcb",
   "metadata": {},
   "outputs": [],
   "source": [
    "import numpy as np\n",
    "import matplotlib.pyplot as plt\n",
    "plt.style.use('seaborn-whitegrid')"
   ]
  },
  {
   "cell_type": "code",
   "execution_count": 8,
   "id": "b6017404",
   "metadata": {},
   "outputs": [],
   "source": [
    "epochs = 1000\n",
    "lr = 0.1"
   ]
  },
  {
   "cell_type": "code",
   "execution_count": 28,
   "id": "4be75c44",
   "metadata": {},
   "outputs": [],
   "source": [
    "#유틸 함수들\n",
    "def sigmoid(x):\n",
    "    return 1/ (1 + np.exp(-x))\n",
    "\n",
    "def mean_squared_error(pred_y, true_y):\n",
    "    return 0.5 * (np.sum((true_y - pred_y)**2))\n",
    "\n",
    "def cross_entropy_error(pred_y, true_y):\n",
    "    if true_y.ndim == 1:\n",
    "        true_y = true_y.reshape(1, -1)\n",
    "        pred_y = pred_y.reshape(1, -1)\n",
    "        \n",
    "    delta = 1e-7\n",
    "    return -np.sum(true_y * np.log(pred_y + delta))\n",
    "\n",
    "def cross_entropy_error_for_batch(pred_y, true_y):\n",
    "    if true_y.ndim == 1:\n",
    "        true_y = true_y.reshape(1, -1)\n",
    "        pred_y = pred_y.reshape(1, -1)\n",
    "        \n",
    "    delta = 1e-7\n",
    "    batch_size = pred_y.shape[0]\n",
    "    return -np.sum(true_y * np.log(pred_y + delta)) / batch_size\n",
    "\n",
    "def cross_entropy_error_for_bin(pred_y, true_y):\n",
    "    return 0.5 * np.sum((-true_y * np.log(pred_y) - (1 - true_y) * np.log(1 - pred_y)))\n",
    "\n",
    "def softmax(a):\n",
    "    exp_a = np.exp(a)\n",
    "    sum_exp_a = np.sum(exp_a)\n",
    "    return exp_a / sum_exp_a\n",
    "\n",
    "def differential(f, x):\n",
    "    eps = 1e-5\n",
    "    diff_value = np.zeros_like(x)\n",
    "\n",
    "    for i in range(x.shape[0]):\n",
    "        temp_val = x[i]\n",
    "        \n",
    "        x[i] = temp_val + eps\n",
    "        f_h1 = f(x)\n",
    "        \n",
    "        x[i] = temp_val - eps\n",
    "        f_h2 = f(x)\n",
    "        \n",
    "        diff_value[i] = (f_h1 - f_h2) / (2 * eps)\n",
    "        x[i] = temp_val\n",
    "        \n",
    "    return diff_value"
   ]
  },
  {
   "cell_type": "code",
   "execution_count": 29,
   "id": "18171bb2",
   "metadata": {},
   "outputs": [],
   "source": [
    "#신경망\n",
    "class LogicGateNet():\n",
    "    \n",
    "    def __init__(self):\n",
    "        def weight_init():\n",
    "            np.random.seed(1)\n",
    "            weights = np.random.randn(2)\n",
    "            bias = np.random.rand(1)\n",
    "            \n",
    "            return weights, bias\n",
    "        \n",
    "        self.weights, self.bias = weight_init()\n",
    "        \n",
    "    def predict(self, x):\n",
    "        W = self.weights.reshape(-1, 1)\n",
    "        b = self.bias\n",
    "        \n",
    "        pred_y = sigmoid(np.dot(x, W) + b)\n",
    "        return pred_y\n",
    "    \n",
    "    def loss(self, x, true_y):\n",
    "        pred_y = self.predict(x)\n",
    "        return cross_entropy_error_for_bin(pred_y, true_y)\n",
    "    \n",
    "    def get_gradient(self, x, t):\n",
    "        def loss_grad(grad):\n",
    "            return self.loss(x, t)\n",
    "        \n",
    "        grad_W = differential(loss_grad, self.weights)\n",
    "        grad_b = differential(loss_grad, self.bias)\n",
    "        \n",
    "        return grad_W, grad_b\n",
    "    "
   ]
  },
  {
   "cell_type": "code",
   "execution_count": 30,
   "id": "972c6f1e",
   "metadata": {},
   "outputs": [
    {
     "name": "stdout",
     "output_type": "stream",
     "text": [
      "Epoch: 100, Cost: 0.6886489498069661, Weights: [1.56426876 0.79168393], Bias: [-2.14871589]\n",
      "Epoch: 200, Cost: 0.49463686030634624, Weights: [2.01360719 1.71241131], Bias: [-3.07894028]\n",
      "Epoch: 300, Cost: 0.3920165980757264, Weights: [2.42841657 2.29753793], Bias: [-3.79103207]\n",
      "Epoch: 400, Cost: 0.3257214374794811, Weights: [2.794852   2.73235738], Bias: [-4.37257095]\n",
      "Epoch: 500, Cost: 0.27863601334727917, Weights: [3.11636193 3.08408364], Bias: [-4.86571237]\n",
      "Epoch: 600, Cost: 0.2432850468380881, Weights: [3.40015395 3.38235762], Bias: [-5.29433736]\n",
      "Epoch: 700, Cost: 0.21572536552440752, Weights: [3.65300561 3.64264217], Bias: [-5.67349792]\n",
      "Epoch: 800, Cost: 0.1936324442833927, Weights: [3.88044124 3.87412053], Bias: [-6.01340133]\n",
      "Epoch: 900, Cost: 0.17553213127892173, Weights: [4.08680123 4.08279091], Bias: [-6.32133891]\n",
      "Epoch: 1000, Cost: 0.16043926933294644, Weights: [4.27548114 4.27284863], Bias: [-6.6027234]\n"
     ]
    }
   ],
   "source": [
    "#AND Gate\n",
    "AND = LogicGateNet()\n",
    "\n",
    "X = np.array([[0, 0], [0, 1], [1, 0], [1, 1]])\n",
    "Y = np.array([[0], [0], [0], [1]])\n",
    "\n",
    "train_loss_list = list()\n",
    "\n",
    "for i in range(epochs):\n",
    "    grad_W, grad_b = AND.get_gradient(X, Y)\n",
    "    \n",
    "    AND.weights -= lr * grad_W\n",
    "    AND.bias -= lr * grad_b\n",
    "    \n",
    "    loss = AND.loss(X, Y)\n",
    "    train_loss_list.append(loss)\n",
    "    \n",
    "    if i % 100 == 99:\n",
    "        print(\"Epoch: {}, Cost: {}, Weights: {}, Bias: {}\".format(i+1, loss, AND.weights, AND.bias))"
   ]
  },
  {
   "cell_type": "code",
   "execution_count": 31,
   "id": "12b2c4a5",
   "metadata": {},
   "outputs": [
    {
     "name": "stdout",
     "output_type": "stream",
     "text": [
      "[[0.00135483]\n",
      " [0.08867878]\n",
      " [0.08889176]\n",
      " [0.87496677]]\n"
     ]
    }
   ],
   "source": [
    "print(AND.predict(X))"
   ]
  },
  {
   "cell_type": "code",
   "execution_count": 32,
   "id": "a2853201",
   "metadata": {},
   "outputs": [
    {
     "name": "stdout",
     "output_type": "stream",
     "text": [
      "Epoch: 100, Cost: 0.4958092384805384, Weights: [2.45484353 1.40566594], Bias: [-0.14439625]\n",
      "Epoch: 200, Cost: 0.33986742315139534, Weights: [2.98631846 2.39448393], Bias: [-0.67661178]\n",
      "Epoch: 300, Cost: 0.25733609861876056, Weights: [3.45016595 3.08431266], Bias: [-1.03721585]\n",
      "Epoch: 400, Cost: 0.20630142190078646, Weights: [3.85230067 3.60865952], Bias: [-1.30598633]\n",
      "Epoch: 500, Cost: 0.17165499221171784, Weights: [4.20195872 4.03000824], Bias: [-1.52060015]\n",
      "Epoch: 600, Cost: 0.14665018845517636, Weights: [4.50867681 4.38171478], Bias: [-1.6994397]\n",
      "Epoch: 700, Cost: 0.12779768649489578, Weights: [4.78049264 4.68334611], Bias: [-1.8527641]\n",
      "Epoch: 800, Cost: 0.11310517185455744, Weights: [5.0237707 4.9472786], Bias: [-1.98691756]\n",
      "Epoch: 900, Cost: 0.1013518091840462, Weights: [5.24347159 5.18181684], Bias: [-2.10611973]\n",
      "Epoch: 1000, Cost: 0.09174843008630013, Weights: [5.44346811 5.39279833], Bias: [-2.21332947]\n"
     ]
    }
   ],
   "source": [
    "OR = LogicGateNet()\n",
    "\n",
    "X = np.array([[0, 0], [0, 1], [1, 0], [1, 1]])\n",
    "Y = np.array([[0], [1], [1], [1]])\n",
    "\n",
    "train_loss_list = list()\n",
    "\n",
    "for i in range(epochs):\n",
    "    grad_W, grad_b = OR.get_gradient(X, Y)\n",
    "    \n",
    "    OR.weights -= lr * grad_W\n",
    "    OR.bias -= lr * grad_b\n",
    "    \n",
    "    loss = OR.loss(X, Y)\n",
    "    train_loss_list.append(loss)\n",
    "    \n",
    "    if i % 100 == 99:\n",
    "        print(\"Epoch: {}, Cost: {}, Weights: {}, Bias: {}\".format(i+1, loss, OR.weights, OR.bias))"
   ]
  },
  {
   "cell_type": "code",
   "execution_count": 33,
   "id": "f486bc41",
   "metadata": {},
   "outputs": [
    {
     "name": "stdout",
     "output_type": "stream",
     "text": [
      "[[0.09855987]\n",
      " [0.9600543 ]\n",
      " [0.96195283]\n",
      " [0.9998201 ]]\n"
     ]
    }
   ],
   "source": [
    "print(OR.predict(X))"
   ]
  },
  {
   "cell_type": "code",
   "execution_count": null,
   "id": "da2d96c3",
   "metadata": {},
   "outputs": [],
   "source": []
  }
 ],
 "metadata": {
  "kernelspec": {
   "display_name": "Python 3 (ipykernel)",
   "language": "python",
   "name": "python3"
  },
  "language_info": {
   "codemirror_mode": {
    "name": "ipython",
    "version": 3
   },
   "file_extension": ".py",
   "mimetype": "text/x-python",
   "name": "python",
   "nbconvert_exporter": "python",
   "pygments_lexer": "ipython3",
   "version": "3.8.12"
  }
 },
 "nbformat": 4,
 "nbformat_minor": 5
}
