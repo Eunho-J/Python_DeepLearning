{
 "cells": [
  {
   "cell_type": "code",
   "execution_count": 1,
   "id": "545ee7fd",
   "metadata": {},
   "outputs": [
    {
     "name": "stdout",
     "output_type": "stream",
     "text": [
      "[0.02348781 0.02125265 0.9500187  0.00524084]\n",
      "1.0\n"
     ]
    }
   ],
   "source": [
    "import numpy as np\n",
    "def softmax(a):\n",
    "    exp_a = np.exp(a)\n",
    "    sum_exp_a = np.sum(exp_a)\n",
    "    y = exp_a / sum_exp_a\n",
    "    return y\n",
    "\n",
    "a = np.array([0.3, 0.2, 4.0, -1.2])\n",
    "print(softmax(a))\n",
    "print(np.sum(softmax(a)))"
   ]
  },
  {
   "cell_type": "code",
   "execution_count": 2,
   "id": "43866917",
   "metadata": {
    "scrolled": true
   },
   "outputs": [
    {
     "name": "stdout",
     "output_type": "stream",
     "text": [
      "[1.92874985e-022 7.17509597e-066 1.00000000e+000 1.37415257e-239]\n"
     ]
    }
   ],
   "source": [
    "def softmax(a):\n",
    "    C = np.max(a)\n",
    "    return (np.exp(a-C) / np.sum(np.exp(a - C)))\n",
    "\n",
    "A = np.array([1000, 900, 1050, 500])\n",
    "print(softmax(A))"
   ]
  },
  {
   "cell_type": "code",
   "execution_count": 3,
   "id": "07eb244c",
   "metadata": {},
   "outputs": [
    {
     "name": "stdout",
     "output_type": "stream",
     "text": [
      "[ 0.5   -0.014  3.     0.     5.   ]\n"
     ]
    }
   ],
   "source": [
    "def LeakyReLU(x):\n",
    "    a = 0.01\n",
    "    return np.maximum(a*x, x)\n",
    "\n",
    "x = np.array([0.5, -1.4, 3, 0, 5])\n",
    "print(LeakyReLU(x))"
   ]
  },
  {
   "cell_type": "code",
   "execution_count": 4,
   "id": "e6545615",
   "metadata": {},
   "outputs": [
    {
     "name": "stdout",
     "output_type": "stream",
     "text": [
      "4.0\n",
      "[-0.86466472  0.1         4.        ]\n"
     ]
    }
   ],
   "source": [
    "def ELU(x):\n",
    "    alpha = 1.0\n",
    "    return (x >= 0) * x + (x < 0) * alpha * (np.exp(x) - 1)\n",
    "\n",
    "print(ELU(4))\n",
    "print(ELU(np.array([-2, 0.1, 4])))"
   ]
  },
  {
   "cell_type": "code",
   "execution_count": 5,
   "id": "928b2b50",
   "metadata": {},
   "outputs": [
    {
     "name": "stdout",
     "output_type": "stream",
     "text": [
      "(3,)\n",
      "(3, 3)\n",
      "(3,)\n"
     ]
    }
   ],
   "source": [
    "def sigmoid(X):\n",
    "    return 1/ (1 + np.exp(-X))\n",
    "\n",
    "#Layer1 definition\n",
    "X = np.array([1.0, 0.5, 0.4])\n",
    "W1 = np.array([[0.1, 0.3, 0.5], \n",
    "               [0.2, 0.4, 0.6], \n",
    "               [0.3, 0.5, 0.7]])\n",
    "B1 = np.array([1, 1, 1])\n",
    "\n",
    "print(X.shape)\n",
    "print(W1.shape)\n",
    "print(B1.shape)"
   ]
  },
  {
   "cell_type": "code",
   "execution_count": 6,
   "id": "9835ceb5",
   "metadata": {},
   "outputs": [
    {
     "name": "stdout",
     "output_type": "stream",
     "text": [
      "[1.32 1.7  2.08]\n",
      "[0.78918171 0.84553473 0.88894403]\n"
     ]
    }
   ],
   "source": [
    "A1 = np.dot(X, W1) + B1\n",
    "Z1 = sigmoid(A1)\n",
    "print(A1)\n",
    "print(Z1)"
   ]
  },
  {
   "cell_type": "code",
   "execution_count": 7,
   "id": "c84a7f79",
   "metadata": {},
   "outputs": [
    {
     "name": "stdout",
     "output_type": "stream",
     "text": [
      "[2.266 3.286 4.306]\n",
      "[0.90602176 0.96394539 0.9866921 ]\n"
     ]
    }
   ],
   "source": [
    "#Layer2 definition\n",
    "W2 = np.array([[0.2, 0.4, 0.6], \n",
    "               [0.1, 0.3, 0.5], \n",
    "               [0.4, 0.6, 0.8]])\n",
    "B2 = np.array([1, 1, 1])\n",
    "\n",
    "A2 = np.dot(A1, W2) + B2\n",
    "Z2 = sigmoid(A2)\n",
    "\n",
    "print(A2)\n",
    "print(Z2)"
   ]
  },
  {
   "cell_type": "code",
   "execution_count": 10,
   "id": "c43c3c84",
   "metadata": {},
   "outputs": [
    {
     "name": "stdout",
     "output_type": "stream",
     "text": [
      "[1.87592 2.53286]\n",
      "[0.86714179 0.92641356]\n"
     ]
    }
   ],
   "source": [
    "#Layer3 definition\n",
    "W3 = np.array([[0.1, 0.3],\n",
    "               [-0.1, -0.5],\n",
    "               [0.3, 0.5]])\n",
    "B3 = np.array([1, 1])\n",
    "\n",
    "A3 = np.dot(A2, W3) + B3\n",
    "Z3 = sigmoid(A3)\n",
    "\n",
    "print(A3)\n",
    "print(Z3)\n",
    "\n",
    "#Layer4 definition\n",
    "W4 = np.array([[0.1, 0.2],\n",
    "               [0.3, 0.5]])\n",
    "B4 = np.array([1, 1])\n",
    "\n",
    "A4 = np.dot(A3, W4) + B4\n",
    "Y = sigmoid(A4)\n",
    "\n",
    "print(A4)\n",
    "print(Y)"
   ]
  },
  {
   "cell_type": "code",
   "execution_count": null,
   "id": "b4fbfff9",
   "metadata": {},
   "outputs": [],
   "source": []
  }
 ],
 "metadata": {
  "kernelspec": {
   "display_name": "Python 3 (ipykernel)",
   "language": "python",
   "name": "python3"
  },
  "language_info": {
   "codemirror_mode": {
    "name": "ipython",
    "version": 3
   },
   "file_extension": ".py",
   "mimetype": "text/x-python",
   "name": "python",
   "nbconvert_exporter": "python",
   "pygments_lexer": "ipython3",
   "version": "3.8.12"
  }
 },
 "nbformat": 4,
 "nbformat_minor": 5
}
